{
  "nbformat": 4,
  "nbformat_minor": 0,
  "metadata": {
    "colab": {
      "name": "Data exploration_Pandas_Matplotlib_Seaborn_correction.ipynb",
      "provenance": [],
      "collapsed_sections": [],
      "include_colab_link": true
    },
    "kernelspec": {
      "name": "python3",
      "display_name": "Python 3"
    }
  },
  "cells": [
    {
      "cell_type": "markdown",
      "metadata": {
        "id": "view-in-github",
        "colab_type": "text"
      },
      "source": [
        "<a href=\"https://colab.research.google.com/github/remijul/exercice/blob/main/Data_exploration_Pandas_Matplotlib_Seaborn_correction.ipynb\" target=\"_parent\"><img src=\"https://colab.research.google.com/assets/colab-badge.svg\" alt=\"Open In Colab\"/></a>"
      ]
    },
    {
      "cell_type": "markdown",
      "metadata": {
        "id": "pJsqufvk5fOq"
      },
      "source": [
        "# Point d'étape n°1 - Octobre 2020\n",
        "Il vous est demandé ici d'importer des données, de les explorer, d'en faire des résumés statistiques et graphiques.  \n",
        "Veuillez suivre les questions et formulez votre code pour répondre aux questions.  \n",
        "Chaque question est indépendante mais elles sont données dans un ordre logique d'analyse d'un jeu de données.  \n",
        "  \n",
        "Faites une copie de ce Colab dans votre Drive, modifiez-le librement puis partager votre travail en fin de session. Veuillez vous assurer que les accès à votre document sont autorisés à des tiers.\n"
      ]
    },
    {
      "cell_type": "markdown",
      "metadata": {
        "id": "YO9riWqL886F"
      },
      "source": [
        "##0 Initalisation\n",
        "Veuillez exécuter le code ci-dessous.\n"
      ]
    },
    {
      "cell_type": "code",
      "metadata": {
        "id": "U4GqLhGX5Yth",
        "colab": {
          "base_uri": "https://localhost:8080/",
          "height": 360
        },
        "outputId": "292ceb14-e736-4d84-92ce-efe554d431af"
      },
      "source": [
        "import pandas as pd\n",
        "import numpy as np\n",
        "import matplotlib.pyplot as plt\n",
        "import seaborn as sns ; sns.set()\n",
        "\n",
        "\n",
        "url = \"https://raw.githubusercontent.com/remijul/dataset/8420fb821aac0202b5b874b45857c7f0f9d79482/spotify.zip\"\n",
        "df = pd.read_csv(url)\n",
        "df.head()"
      ],
      "execution_count": null,
      "outputs": [
        {
          "output_type": "execute_result",
          "data": {
            "text/html": [
              "<div>\n",
              "<style scoped>\n",
              "    .dataframe tbody tr th:only-of-type {\n",
              "        vertical-align: middle;\n",
              "    }\n",
              "\n",
              "    .dataframe tbody tr th {\n",
              "        vertical-align: top;\n",
              "    }\n",
              "\n",
              "    .dataframe thead th {\n",
              "        text-align: right;\n",
              "    }\n",
              "</style>\n",
              "<table border=\"1\" class=\"dataframe\">\n",
              "  <thead>\n",
              "    <tr style=\"text-align: right;\">\n",
              "      <th></th>\n",
              "      <th>genre</th>\n",
              "      <th>artist_name</th>\n",
              "      <th>track_name</th>\n",
              "      <th>track_id</th>\n",
              "      <th>popularity</th>\n",
              "      <th>acousticness</th>\n",
              "      <th>danceability</th>\n",
              "      <th>duration_ms</th>\n",
              "      <th>energy</th>\n",
              "      <th>instrumentalness</th>\n",
              "      <th>key</th>\n",
              "      <th>liveness</th>\n",
              "      <th>loudness</th>\n",
              "      <th>mode</th>\n",
              "      <th>speechiness</th>\n",
              "      <th>tempo</th>\n",
              "      <th>time_signature</th>\n",
              "      <th>valence</th>\n",
              "    </tr>\n",
              "  </thead>\n",
              "  <tbody>\n",
              "    <tr>\n",
              "      <th>0</th>\n",
              "      <td>Movie</td>\n",
              "      <td>Henri Salvador</td>\n",
              "      <td>C'est beau de faire un Show</td>\n",
              "      <td>0BRjO6ga9RKCKjfDqeFgWV</td>\n",
              "      <td>0</td>\n",
              "      <td>0.611</td>\n",
              "      <td>0.389</td>\n",
              "      <td>99373</td>\n",
              "      <td>0.910</td>\n",
              "      <td>0.000</td>\n",
              "      <td>C#</td>\n",
              "      <td>0.3460</td>\n",
              "      <td>-1.828</td>\n",
              "      <td>Major</td>\n",
              "      <td>0.0525</td>\n",
              "      <td>166.969</td>\n",
              "      <td>4/4</td>\n",
              "      <td>0.814</td>\n",
              "    </tr>\n",
              "    <tr>\n",
              "      <th>1</th>\n",
              "      <td>Movie</td>\n",
              "      <td>Martin &amp; les fées</td>\n",
              "      <td>Perdu d'avance (par Gad Elmaleh)</td>\n",
              "      <td>0BjC1NfoEOOusryehmNudP</td>\n",
              "      <td>1</td>\n",
              "      <td>0.246</td>\n",
              "      <td>0.590</td>\n",
              "      <td>137373</td>\n",
              "      <td>0.737</td>\n",
              "      <td>0.000</td>\n",
              "      <td>F#</td>\n",
              "      <td>0.1510</td>\n",
              "      <td>-5.559</td>\n",
              "      <td>Minor</td>\n",
              "      <td>0.0868</td>\n",
              "      <td>174.003</td>\n",
              "      <td>4/4</td>\n",
              "      <td>0.816</td>\n",
              "    </tr>\n",
              "    <tr>\n",
              "      <th>2</th>\n",
              "      <td>Movie</td>\n",
              "      <td>Joseph Williams</td>\n",
              "      <td>Don't Let Me Be Lonely Tonight</td>\n",
              "      <td>0CoSDzoNIKCRs124s9uTVy</td>\n",
              "      <td>3</td>\n",
              "      <td>0.952</td>\n",
              "      <td>0.663</td>\n",
              "      <td>170267</td>\n",
              "      <td>0.131</td>\n",
              "      <td>0.000</td>\n",
              "      <td>C</td>\n",
              "      <td>0.1030</td>\n",
              "      <td>-13.879</td>\n",
              "      <td>Minor</td>\n",
              "      <td>0.0362</td>\n",
              "      <td>99.488</td>\n",
              "      <td>5/4</td>\n",
              "      <td>0.368</td>\n",
              "    </tr>\n",
              "    <tr>\n",
              "      <th>3</th>\n",
              "      <td>Movie</td>\n",
              "      <td>Henri Salvador</td>\n",
              "      <td>Dis-moi Monsieur Gordon Cooper</td>\n",
              "      <td>0Gc6TVm52BwZD07Ki6tIvf</td>\n",
              "      <td>0</td>\n",
              "      <td>0.703</td>\n",
              "      <td>0.240</td>\n",
              "      <td>152427</td>\n",
              "      <td>0.326</td>\n",
              "      <td>0.000</td>\n",
              "      <td>C#</td>\n",
              "      <td>0.0985</td>\n",
              "      <td>-12.178</td>\n",
              "      <td>Major</td>\n",
              "      <td>0.0395</td>\n",
              "      <td>171.758</td>\n",
              "      <td>4/4</td>\n",
              "      <td>0.227</td>\n",
              "    </tr>\n",
              "    <tr>\n",
              "      <th>4</th>\n",
              "      <td>Movie</td>\n",
              "      <td>Fabien Nataf</td>\n",
              "      <td>Ouverture</td>\n",
              "      <td>0IuslXpMROHdEPvSl1fTQK</td>\n",
              "      <td>4</td>\n",
              "      <td>0.950</td>\n",
              "      <td>0.331</td>\n",
              "      <td>82625</td>\n",
              "      <td>0.225</td>\n",
              "      <td>0.123</td>\n",
              "      <td>F</td>\n",
              "      <td>0.2020</td>\n",
              "      <td>-21.150</td>\n",
              "      <td>Major</td>\n",
              "      <td>0.0456</td>\n",
              "      <td>140.576</td>\n",
              "      <td>4/4</td>\n",
              "      <td>0.390</td>\n",
              "    </tr>\n",
              "  </tbody>\n",
              "</table>\n",
              "</div>"
            ],
            "text/plain": [
              "   genre        artist_name  ... time_signature valence\n",
              "0  Movie     Henri Salvador  ...            4/4   0.814\n",
              "1  Movie  Martin & les fées  ...            4/4   0.816\n",
              "2  Movie    Joseph Williams  ...            5/4   0.368\n",
              "3  Movie     Henri Salvador  ...            4/4   0.227\n",
              "4  Movie       Fabien Nataf  ...            4/4   0.390\n",
              "\n",
              "[5 rows x 18 columns]"
            ]
          },
          "metadata": {
            "tags": []
          },
          "execution_count": 3
        }
      ]
    },
    {
      "cell_type": "markdown",
      "metadata": {
        "id": "89frweXF_BxX"
      },
      "source": [
        "##1 Exploration des données"
      ]
    },
    {
      "cell_type": "markdown",
      "metadata": {
        "id": "7KJBd0fy_P5s"
      },
      "source": [
        "###1.1 Quelles sont les dimensions du jeu de données ?"
      ]
    },
    {
      "cell_type": "code",
      "metadata": {
        "id": "hmftMuA2_gMt",
        "colab": {
          "base_uri": "https://localhost:8080/"
        },
        "outputId": "25ab065a-fe0c-456f-fd36-9fa01e884967"
      },
      "source": [
        "# Your code here : \n",
        "df.shape"
      ],
      "execution_count": null,
      "outputs": [
        {
          "output_type": "execute_result",
          "data": {
            "text/plain": [
              "(232725, 18)"
            ]
          },
          "metadata": {
            "tags": []
          },
          "execution_count": 4
        }
      ]
    },
    {
      "cell_type": "markdown",
      "metadata": {
        "id": "HyVOXFrN_kYU"
      },
      "source": [
        "###1.2 Quelles sont les colonnes (nom et typage) du jeu de données ?\n"
      ]
    },
    {
      "cell_type": "code",
      "metadata": {
        "id": "5bs0fW82_kYW",
        "colab": {
          "base_uri": "https://localhost:8080/"
        },
        "outputId": "ccc75b4d-a3b4-4f8e-f4b2-95db517f7e08"
      },
      "source": [
        "# Your code here : \n",
        "df.dtypes"
      ],
      "execution_count": null,
      "outputs": [
        {
          "output_type": "execute_result",
          "data": {
            "text/plain": [
              "genre                object\n",
              "artist_name          object\n",
              "track_name           object\n",
              "track_id             object\n",
              "popularity            int64\n",
              "acousticness        float64\n",
              "danceability        float64\n",
              "duration_ms           int64\n",
              "energy              float64\n",
              "instrumentalness    float64\n",
              "key                  object\n",
              "liveness            float64\n",
              "loudness            float64\n",
              "mode                 object\n",
              "speechiness         float64\n",
              "tempo               float64\n",
              "time_signature       object\n",
              "valence             float64\n",
              "dtype: object"
            ]
          },
          "metadata": {
            "tags": []
          },
          "execution_count": 5
        }
      ]
    },
    {
      "cell_type": "markdown",
      "metadata": {
        "id": "8ukubNIP_uWU"
      },
      "source": [
        "###1.3 Est-ce que le jeu de données contient des données manquantes ? Commenter les résultats obtenus."
      ]
    },
    {
      "cell_type": "code",
      "metadata": {
        "id": "mSrT3jgg_uWW",
        "colab": {
          "base_uri": "https://localhost:8080/"
        },
        "outputId": "8784dc1e-ab04-4dd1-d594-b59948f45594"
      },
      "source": [
        "# Your code here : \n",
        "df.info()"
      ],
      "execution_count": null,
      "outputs": [
        {
          "output_type": "stream",
          "text": [
            "<class 'pandas.core.frame.DataFrame'>\n",
            "RangeIndex: 232725 entries, 0 to 232724\n",
            "Data columns (total 18 columns):\n",
            " #   Column            Non-Null Count   Dtype  \n",
            "---  ------            --------------   -----  \n",
            " 0   genre             232725 non-null  object \n",
            " 1   artist_name       232725 non-null  object \n",
            " 2   track_name        232725 non-null  object \n",
            " 3   track_id          232725 non-null  object \n",
            " 4   popularity        232725 non-null  int64  \n",
            " 5   acousticness      232725 non-null  float64\n",
            " 6   danceability      232725 non-null  float64\n",
            " 7   duration_ms       232725 non-null  int64  \n",
            " 8   energy            232725 non-null  float64\n",
            " 9   instrumentalness  232725 non-null  float64\n",
            " 10  key               232725 non-null  object \n",
            " 11  liveness          232725 non-null  float64\n",
            " 12  loudness          232725 non-null  float64\n",
            " 13  mode              232725 non-null  object \n",
            " 14  speechiness       232725 non-null  float64\n",
            " 15  tempo             232725 non-null  float64\n",
            " 16  time_signature    232725 non-null  object \n",
            " 17  valence           232725 non-null  float64\n",
            "dtypes: float64(9), int64(2), object(7)\n",
            "memory usage: 32.0+ MB\n"
          ],
          "name": "stdout"
        }
      ]
    },
    {
      "cell_type": "code",
      "metadata": {
        "colab": {
          "base_uri": "https://localhost:8080/"
        },
        "id": "79UrVTwFAFcN",
        "outputId": "40b5d733-f2cd-4c6b-dd2b-24aa31f6e2b6"
      },
      "source": [
        "# Your code here : \n",
        "df.isna().sum()"
      ],
      "execution_count": null,
      "outputs": [
        {
          "output_type": "execute_result",
          "data": {
            "text/plain": [
              "genre               0\n",
              "artist_name         0\n",
              "track_name          0\n",
              "track_id            0\n",
              "popularity          0\n",
              "acousticness        0\n",
              "danceability        0\n",
              "duration_ms         0\n",
              "energy              0\n",
              "instrumentalness    0\n",
              "key                 0\n",
              "liveness            0\n",
              "loudness            0\n",
              "mode                0\n",
              "speechiness         0\n",
              "tempo               0\n",
              "time_signature      0\n",
              "valence             0\n",
              "dtype: int64"
            ]
          },
          "metadata": {
            "tags": []
          },
          "execution_count": 7
        }
      ]
    },
    {
      "cell_type": "markdown",
      "metadata": {
        "id": "p0CRK5BA_77g"
      },
      "source": [
        "###1.4 Afficher les 10 premières lignes de jeu de données.\n"
      ]
    },
    {
      "cell_type": "code",
      "metadata": {
        "id": "XA6VwcGL_77j",
        "colab": {
          "base_uri": "https://localhost:8080/",
          "height": 651
        },
        "outputId": "1c579bea-efdf-448c-ba3a-32149fb29286"
      },
      "source": [
        "# Your code here : \n",
        "df.head(n=10)"
      ],
      "execution_count": null,
      "outputs": [
        {
          "output_type": "execute_result",
          "data": {
            "text/html": [
              "<div>\n",
              "<style scoped>\n",
              "    .dataframe tbody tr th:only-of-type {\n",
              "        vertical-align: middle;\n",
              "    }\n",
              "\n",
              "    .dataframe tbody tr th {\n",
              "        vertical-align: top;\n",
              "    }\n",
              "\n",
              "    .dataframe thead th {\n",
              "        text-align: right;\n",
              "    }\n",
              "</style>\n",
              "<table border=\"1\" class=\"dataframe\">\n",
              "  <thead>\n",
              "    <tr style=\"text-align: right;\">\n",
              "      <th></th>\n",
              "      <th>genre</th>\n",
              "      <th>artist_name</th>\n",
              "      <th>track_name</th>\n",
              "      <th>track_id</th>\n",
              "      <th>popularity</th>\n",
              "      <th>acousticness</th>\n",
              "      <th>danceability</th>\n",
              "      <th>duration_ms</th>\n",
              "      <th>energy</th>\n",
              "      <th>instrumentalness</th>\n",
              "      <th>key</th>\n",
              "      <th>liveness</th>\n",
              "      <th>loudness</th>\n",
              "      <th>mode</th>\n",
              "      <th>speechiness</th>\n",
              "      <th>tempo</th>\n",
              "      <th>time_signature</th>\n",
              "      <th>valence</th>\n",
              "    </tr>\n",
              "  </thead>\n",
              "  <tbody>\n",
              "    <tr>\n",
              "      <th>0</th>\n",
              "      <td>Movie</td>\n",
              "      <td>Henri Salvador</td>\n",
              "      <td>C'est beau de faire un Show</td>\n",
              "      <td>0BRjO6ga9RKCKjfDqeFgWV</td>\n",
              "      <td>0</td>\n",
              "      <td>0.61100</td>\n",
              "      <td>0.389</td>\n",
              "      <td>99373</td>\n",
              "      <td>0.9100</td>\n",
              "      <td>0.00000</td>\n",
              "      <td>C#</td>\n",
              "      <td>0.3460</td>\n",
              "      <td>-1.828</td>\n",
              "      <td>Major</td>\n",
              "      <td>0.0525</td>\n",
              "      <td>166.969</td>\n",
              "      <td>4/4</td>\n",
              "      <td>0.814</td>\n",
              "    </tr>\n",
              "    <tr>\n",
              "      <th>1</th>\n",
              "      <td>Movie</td>\n",
              "      <td>Martin &amp; les fées</td>\n",
              "      <td>Perdu d'avance (par Gad Elmaleh)</td>\n",
              "      <td>0BjC1NfoEOOusryehmNudP</td>\n",
              "      <td>1</td>\n",
              "      <td>0.24600</td>\n",
              "      <td>0.590</td>\n",
              "      <td>137373</td>\n",
              "      <td>0.7370</td>\n",
              "      <td>0.00000</td>\n",
              "      <td>F#</td>\n",
              "      <td>0.1510</td>\n",
              "      <td>-5.559</td>\n",
              "      <td>Minor</td>\n",
              "      <td>0.0868</td>\n",
              "      <td>174.003</td>\n",
              "      <td>4/4</td>\n",
              "      <td>0.816</td>\n",
              "    </tr>\n",
              "    <tr>\n",
              "      <th>2</th>\n",
              "      <td>Movie</td>\n",
              "      <td>Joseph Williams</td>\n",
              "      <td>Don't Let Me Be Lonely Tonight</td>\n",
              "      <td>0CoSDzoNIKCRs124s9uTVy</td>\n",
              "      <td>3</td>\n",
              "      <td>0.95200</td>\n",
              "      <td>0.663</td>\n",
              "      <td>170267</td>\n",
              "      <td>0.1310</td>\n",
              "      <td>0.00000</td>\n",
              "      <td>C</td>\n",
              "      <td>0.1030</td>\n",
              "      <td>-13.879</td>\n",
              "      <td>Minor</td>\n",
              "      <td>0.0362</td>\n",
              "      <td>99.488</td>\n",
              "      <td>5/4</td>\n",
              "      <td>0.368</td>\n",
              "    </tr>\n",
              "    <tr>\n",
              "      <th>3</th>\n",
              "      <td>Movie</td>\n",
              "      <td>Henri Salvador</td>\n",
              "      <td>Dis-moi Monsieur Gordon Cooper</td>\n",
              "      <td>0Gc6TVm52BwZD07Ki6tIvf</td>\n",
              "      <td>0</td>\n",
              "      <td>0.70300</td>\n",
              "      <td>0.240</td>\n",
              "      <td>152427</td>\n",
              "      <td>0.3260</td>\n",
              "      <td>0.00000</td>\n",
              "      <td>C#</td>\n",
              "      <td>0.0985</td>\n",
              "      <td>-12.178</td>\n",
              "      <td>Major</td>\n",
              "      <td>0.0395</td>\n",
              "      <td>171.758</td>\n",
              "      <td>4/4</td>\n",
              "      <td>0.227</td>\n",
              "    </tr>\n",
              "    <tr>\n",
              "      <th>4</th>\n",
              "      <td>Movie</td>\n",
              "      <td>Fabien Nataf</td>\n",
              "      <td>Ouverture</td>\n",
              "      <td>0IuslXpMROHdEPvSl1fTQK</td>\n",
              "      <td>4</td>\n",
              "      <td>0.95000</td>\n",
              "      <td>0.331</td>\n",
              "      <td>82625</td>\n",
              "      <td>0.2250</td>\n",
              "      <td>0.12300</td>\n",
              "      <td>F</td>\n",
              "      <td>0.2020</td>\n",
              "      <td>-21.150</td>\n",
              "      <td>Major</td>\n",
              "      <td>0.0456</td>\n",
              "      <td>140.576</td>\n",
              "      <td>4/4</td>\n",
              "      <td>0.390</td>\n",
              "    </tr>\n",
              "    <tr>\n",
              "      <th>5</th>\n",
              "      <td>Movie</td>\n",
              "      <td>Henri Salvador</td>\n",
              "      <td>Le petit souper aux chandelles</td>\n",
              "      <td>0Mf1jKa8eNAf1a4PwTbizj</td>\n",
              "      <td>0</td>\n",
              "      <td>0.74900</td>\n",
              "      <td>0.578</td>\n",
              "      <td>160627</td>\n",
              "      <td>0.0948</td>\n",
              "      <td>0.00000</td>\n",
              "      <td>C#</td>\n",
              "      <td>0.1070</td>\n",
              "      <td>-14.970</td>\n",
              "      <td>Major</td>\n",
              "      <td>0.1430</td>\n",
              "      <td>87.479</td>\n",
              "      <td>4/4</td>\n",
              "      <td>0.358</td>\n",
              "    </tr>\n",
              "    <tr>\n",
              "      <th>6</th>\n",
              "      <td>Movie</td>\n",
              "      <td>Martin &amp; les fées</td>\n",
              "      <td>Premières recherches (par Paul Ventimila, Lori...</td>\n",
              "      <td>0NUiKYRd6jt1LKMYGkUdnZ</td>\n",
              "      <td>2</td>\n",
              "      <td>0.34400</td>\n",
              "      <td>0.703</td>\n",
              "      <td>212293</td>\n",
              "      <td>0.2700</td>\n",
              "      <td>0.00000</td>\n",
              "      <td>C#</td>\n",
              "      <td>0.1050</td>\n",
              "      <td>-12.675</td>\n",
              "      <td>Major</td>\n",
              "      <td>0.9530</td>\n",
              "      <td>82.873</td>\n",
              "      <td>4/4</td>\n",
              "      <td>0.533</td>\n",
              "    </tr>\n",
              "    <tr>\n",
              "      <th>7</th>\n",
              "      <td>Movie</td>\n",
              "      <td>Laura Mayne</td>\n",
              "      <td>Let Me Let Go</td>\n",
              "      <td>0PbIF9YVD505GutwotpB5C</td>\n",
              "      <td>15</td>\n",
              "      <td>0.93900</td>\n",
              "      <td>0.416</td>\n",
              "      <td>240067</td>\n",
              "      <td>0.2690</td>\n",
              "      <td>0.00000</td>\n",
              "      <td>F#</td>\n",
              "      <td>0.1130</td>\n",
              "      <td>-8.949</td>\n",
              "      <td>Major</td>\n",
              "      <td>0.0286</td>\n",
              "      <td>96.827</td>\n",
              "      <td>4/4</td>\n",
              "      <td>0.274</td>\n",
              "    </tr>\n",
              "    <tr>\n",
              "      <th>8</th>\n",
              "      <td>Movie</td>\n",
              "      <td>Chorus</td>\n",
              "      <td>Helka</td>\n",
              "      <td>0ST6uPfvaPpJLtQwhE6KfC</td>\n",
              "      <td>0</td>\n",
              "      <td>0.00104</td>\n",
              "      <td>0.734</td>\n",
              "      <td>226200</td>\n",
              "      <td>0.4810</td>\n",
              "      <td>0.00086</td>\n",
              "      <td>C</td>\n",
              "      <td>0.0765</td>\n",
              "      <td>-7.725</td>\n",
              "      <td>Major</td>\n",
              "      <td>0.0460</td>\n",
              "      <td>125.080</td>\n",
              "      <td>4/4</td>\n",
              "      <td>0.765</td>\n",
              "    </tr>\n",
              "    <tr>\n",
              "      <th>9</th>\n",
              "      <td>Movie</td>\n",
              "      <td>Le Club des Juniors</td>\n",
              "      <td>Les bisous des bisounours</td>\n",
              "      <td>0VSqZ3KStsjcfERGdcWpFO</td>\n",
              "      <td>10</td>\n",
              "      <td>0.31900</td>\n",
              "      <td>0.598</td>\n",
              "      <td>152694</td>\n",
              "      <td>0.7050</td>\n",
              "      <td>0.00125</td>\n",
              "      <td>G</td>\n",
              "      <td>0.3490</td>\n",
              "      <td>-7.790</td>\n",
              "      <td>Major</td>\n",
              "      <td>0.0281</td>\n",
              "      <td>137.496</td>\n",
              "      <td>4/4</td>\n",
              "      <td>0.718</td>\n",
              "    </tr>\n",
              "  </tbody>\n",
              "</table>\n",
              "</div>"
            ],
            "text/plain": [
              "   genre          artist_name  ... time_signature valence\n",
              "0  Movie       Henri Salvador  ...            4/4   0.814\n",
              "1  Movie    Martin & les fées  ...            4/4   0.816\n",
              "2  Movie      Joseph Williams  ...            5/4   0.368\n",
              "3  Movie       Henri Salvador  ...            4/4   0.227\n",
              "4  Movie         Fabien Nataf  ...            4/4   0.390\n",
              "5  Movie       Henri Salvador  ...            4/4   0.358\n",
              "6  Movie    Martin & les fées  ...            4/4   0.533\n",
              "7  Movie          Laura Mayne  ...            4/4   0.274\n",
              "8  Movie               Chorus  ...            4/4   0.765\n",
              "9  Movie  Le Club des Juniors  ...            4/4   0.718\n",
              "\n",
              "[10 rows x 18 columns]"
            ]
          },
          "metadata": {
            "tags": []
          },
          "execution_count": 8
        }
      ]
    },
    {
      "cell_type": "code",
      "metadata": {
        "colab": {
          "base_uri": "https://localhost:8080/",
          "height": 617
        },
        "id": "6HbaDLNZAQCc",
        "outputId": "2ac1cb70-6a45-45e7-feb3-21caed4195c4"
      },
      "source": [
        "# Your code here : last 10 rows\n",
        "df.tail(n=10)"
      ],
      "execution_count": null,
      "outputs": [
        {
          "output_type": "execute_result",
          "data": {
            "text/html": [
              "<div>\n",
              "<style scoped>\n",
              "    .dataframe tbody tr th:only-of-type {\n",
              "        vertical-align: middle;\n",
              "    }\n",
              "\n",
              "    .dataframe tbody tr th {\n",
              "        vertical-align: top;\n",
              "    }\n",
              "\n",
              "    .dataframe thead th {\n",
              "        text-align: right;\n",
              "    }\n",
              "</style>\n",
              "<table border=\"1\" class=\"dataframe\">\n",
              "  <thead>\n",
              "    <tr style=\"text-align: right;\">\n",
              "      <th></th>\n",
              "      <th>genre</th>\n",
              "      <th>artist_name</th>\n",
              "      <th>track_name</th>\n",
              "      <th>track_id</th>\n",
              "      <th>popularity</th>\n",
              "      <th>acousticness</th>\n",
              "      <th>danceability</th>\n",
              "      <th>duration_ms</th>\n",
              "      <th>energy</th>\n",
              "      <th>instrumentalness</th>\n",
              "      <th>key</th>\n",
              "      <th>liveness</th>\n",
              "      <th>loudness</th>\n",
              "      <th>mode</th>\n",
              "      <th>speechiness</th>\n",
              "      <th>tempo</th>\n",
              "      <th>time_signature</th>\n",
              "      <th>valence</th>\n",
              "    </tr>\n",
              "  </thead>\n",
              "  <tbody>\n",
              "    <tr>\n",
              "      <th>232715</th>\n",
              "      <td>Soul</td>\n",
              "      <td>Emily King</td>\n",
              "      <td>Down</td>\n",
              "      <td>5cA0vB8c9FMOVDWyJHgf26</td>\n",
              "      <td>42</td>\n",
              "      <td>0.55000</td>\n",
              "      <td>0.394</td>\n",
              "      <td>281853</td>\n",
              "      <td>0.346</td>\n",
              "      <td>0.000002</td>\n",
              "      <td>E</td>\n",
              "      <td>0.1290</td>\n",
              "      <td>-13.617</td>\n",
              "      <td>Major</td>\n",
              "      <td>0.0635</td>\n",
              "      <td>90.831</td>\n",
              "      <td>4/4</td>\n",
              "      <td>0.436</td>\n",
              "    </tr>\n",
              "    <tr>\n",
              "      <th>232716</th>\n",
              "      <td>Soul</td>\n",
              "      <td>John Legend</td>\n",
              "      <td>Quickly (feat. Brandy)</td>\n",
              "      <td>1U0OMWvR89Cm20vCNar50f</td>\n",
              "      <td>39</td>\n",
              "      <td>0.23100</td>\n",
              "      <td>0.736</td>\n",
              "      <td>222667</td>\n",
              "      <td>0.701</td>\n",
              "      <td>0.000000</td>\n",
              "      <td>A#</td>\n",
              "      <td>0.2030</td>\n",
              "      <td>-4.345</td>\n",
              "      <td>Minor</td>\n",
              "      <td>0.1000</td>\n",
              "      <td>99.991</td>\n",
              "      <td>4/4</td>\n",
              "      <td>0.770</td>\n",
              "    </tr>\n",
              "    <tr>\n",
              "      <th>232717</th>\n",
              "      <td>Soul</td>\n",
              "      <td>Belly</td>\n",
              "      <td>P.O.P.</td>\n",
              "      <td>2gGqKJWfWbToha2YmDxnnj</td>\n",
              "      <td>43</td>\n",
              "      <td>0.10400</td>\n",
              "      <td>0.802</td>\n",
              "      <td>201173</td>\n",
              "      <td>0.516</td>\n",
              "      <td>0.000485</td>\n",
              "      <td>D</td>\n",
              "      <td>0.1050</td>\n",
              "      <td>-9.014</td>\n",
              "      <td>Major</td>\n",
              "      <td>0.2130</td>\n",
              "      <td>175.666</td>\n",
              "      <td>4/4</td>\n",
              "      <td>0.482</td>\n",
              "    </tr>\n",
              "    <tr>\n",
              "      <th>232718</th>\n",
              "      <td>Soul</td>\n",
              "      <td>Muddy Waters</td>\n",
              "      <td>I Just Want To Make Love To You - Electric Mud...</td>\n",
              "      <td>2HFczeynfKGiM9KF2z2K7K</td>\n",
              "      <td>43</td>\n",
              "      <td>0.01360</td>\n",
              "      <td>0.294</td>\n",
              "      <td>258267</td>\n",
              "      <td>0.739</td>\n",
              "      <td>0.004820</td>\n",
              "      <td>C</td>\n",
              "      <td>0.1380</td>\n",
              "      <td>-7.167</td>\n",
              "      <td>Major</td>\n",
              "      <td>0.0434</td>\n",
              "      <td>176.402</td>\n",
              "      <td>4/4</td>\n",
              "      <td>0.945</td>\n",
              "    </tr>\n",
              "    <tr>\n",
              "      <th>232719</th>\n",
              "      <td>Soul</td>\n",
              "      <td>Bobby \"Blue\" Bland</td>\n",
              "      <td>I'll Take Care Of You - Single Version</td>\n",
              "      <td>2iZf3EUedz9MPqbAvXdpdA</td>\n",
              "      <td>32</td>\n",
              "      <td>0.56600</td>\n",
              "      <td>0.423</td>\n",
              "      <td>144667</td>\n",
              "      <td>0.337</td>\n",
              "      <td>0.000000</td>\n",
              "      <td>A#</td>\n",
              "      <td>0.2760</td>\n",
              "      <td>-13.092</td>\n",
              "      <td>Minor</td>\n",
              "      <td>0.0436</td>\n",
              "      <td>80.023</td>\n",
              "      <td>4/4</td>\n",
              "      <td>0.497</td>\n",
              "    </tr>\n",
              "    <tr>\n",
              "      <th>232720</th>\n",
              "      <td>Soul</td>\n",
              "      <td>Slave</td>\n",
              "      <td>Son Of Slide</td>\n",
              "      <td>2XGLdVl7lGeq8ksM6Al7jT</td>\n",
              "      <td>39</td>\n",
              "      <td>0.00384</td>\n",
              "      <td>0.687</td>\n",
              "      <td>326240</td>\n",
              "      <td>0.714</td>\n",
              "      <td>0.544000</td>\n",
              "      <td>D</td>\n",
              "      <td>0.0845</td>\n",
              "      <td>-10.626</td>\n",
              "      <td>Major</td>\n",
              "      <td>0.0316</td>\n",
              "      <td>115.542</td>\n",
              "      <td>4/4</td>\n",
              "      <td>0.962</td>\n",
              "    </tr>\n",
              "    <tr>\n",
              "      <th>232721</th>\n",
              "      <td>Soul</td>\n",
              "      <td>Jr Thomas &amp; The Volcanos</td>\n",
              "      <td>Burning Fire</td>\n",
              "      <td>1qWZdkBl4UVPj9lK6HuuFM</td>\n",
              "      <td>38</td>\n",
              "      <td>0.03290</td>\n",
              "      <td>0.785</td>\n",
              "      <td>282447</td>\n",
              "      <td>0.683</td>\n",
              "      <td>0.000880</td>\n",
              "      <td>E</td>\n",
              "      <td>0.2370</td>\n",
              "      <td>-6.944</td>\n",
              "      <td>Minor</td>\n",
              "      <td>0.0337</td>\n",
              "      <td>113.830</td>\n",
              "      <td>4/4</td>\n",
              "      <td>0.969</td>\n",
              "    </tr>\n",
              "    <tr>\n",
              "      <th>232722</th>\n",
              "      <td>Soul</td>\n",
              "      <td>Muddy Waters</td>\n",
              "      <td>(I'm Your) Hoochie Coochie Man</td>\n",
              "      <td>2ziWXUmQLrXTiYjCg2fZ2t</td>\n",
              "      <td>47</td>\n",
              "      <td>0.90100</td>\n",
              "      <td>0.517</td>\n",
              "      <td>166960</td>\n",
              "      <td>0.419</td>\n",
              "      <td>0.000000</td>\n",
              "      <td>D</td>\n",
              "      <td>0.0945</td>\n",
              "      <td>-8.282</td>\n",
              "      <td>Major</td>\n",
              "      <td>0.1480</td>\n",
              "      <td>84.135</td>\n",
              "      <td>4/4</td>\n",
              "      <td>0.813</td>\n",
              "    </tr>\n",
              "    <tr>\n",
              "      <th>232723</th>\n",
              "      <td>Soul</td>\n",
              "      <td>R.LUM.R</td>\n",
              "      <td>With My Words</td>\n",
              "      <td>6EFsue2YbIG4Qkq8Zr9Rir</td>\n",
              "      <td>44</td>\n",
              "      <td>0.26200</td>\n",
              "      <td>0.745</td>\n",
              "      <td>222442</td>\n",
              "      <td>0.704</td>\n",
              "      <td>0.000000</td>\n",
              "      <td>A</td>\n",
              "      <td>0.3330</td>\n",
              "      <td>-7.137</td>\n",
              "      <td>Major</td>\n",
              "      <td>0.1460</td>\n",
              "      <td>100.031</td>\n",
              "      <td>4/4</td>\n",
              "      <td>0.489</td>\n",
              "    </tr>\n",
              "    <tr>\n",
              "      <th>232724</th>\n",
              "      <td>Soul</td>\n",
              "      <td>Mint Condition</td>\n",
              "      <td>You Don't Have To Hurt No More</td>\n",
              "      <td>34XO9RwPMKjbvRry54QzWn</td>\n",
              "      <td>35</td>\n",
              "      <td>0.09730</td>\n",
              "      <td>0.758</td>\n",
              "      <td>323027</td>\n",
              "      <td>0.470</td>\n",
              "      <td>0.000049</td>\n",
              "      <td>G#</td>\n",
              "      <td>0.0836</td>\n",
              "      <td>-6.708</td>\n",
              "      <td>Minor</td>\n",
              "      <td>0.0287</td>\n",
              "      <td>113.897</td>\n",
              "      <td>4/4</td>\n",
              "      <td>0.479</td>\n",
              "    </tr>\n",
              "  </tbody>\n",
              "</table>\n",
              "</div>"
            ],
            "text/plain": [
              "       genre               artist_name  ... time_signature valence\n",
              "232715  Soul                Emily King  ...            4/4   0.436\n",
              "232716  Soul               John Legend  ...            4/4   0.770\n",
              "232717  Soul                     Belly  ...            4/4   0.482\n",
              "232718  Soul              Muddy Waters  ...            4/4   0.945\n",
              "232719  Soul        Bobby \"Blue\" Bland  ...            4/4   0.497\n",
              "232720  Soul                     Slave  ...            4/4   0.962\n",
              "232721  Soul  Jr Thomas & The Volcanos  ...            4/4   0.969\n",
              "232722  Soul              Muddy Waters  ...            4/4   0.813\n",
              "232723  Soul                   R.LUM.R  ...            4/4   0.489\n",
              "232724  Soul            Mint Condition  ...            4/4   0.479\n",
              "\n",
              "[10 rows x 18 columns]"
            ]
          },
          "metadata": {
            "tags": []
          },
          "execution_count": 9
        }
      ]
    },
    {
      "cell_type": "markdown",
      "metadata": {
        "id": "ozi8Zk-1-CfQ"
      },
      "source": [
        "##2 Description des données"
      ]
    },
    {
      "cell_type": "markdown",
      "metadata": {
        "id": "BdpoQ5fi_Hjm"
      },
      "source": [
        "###2.1 Décrire les variables (colonnes) numériques du jeu de données. Commenter les résultats obtenus."
      ]
    },
    {
      "cell_type": "code",
      "metadata": {
        "id": "YPgfP0Dg_Jkb",
        "cellView": "both",
        "colab": {
          "base_uri": "https://localhost:8080/",
          "height": 297
        },
        "outputId": "a4776719-05cb-4100-f070-9fc9b5a973f1"
      },
      "source": [
        "# Your code here : \n",
        "df.describe()\n"
      ],
      "execution_count": null,
      "outputs": [
        {
          "output_type": "execute_result",
          "data": {
            "text/html": [
              "<div>\n",
              "<style scoped>\n",
              "    .dataframe tbody tr th:only-of-type {\n",
              "        vertical-align: middle;\n",
              "    }\n",
              "\n",
              "    .dataframe tbody tr th {\n",
              "        vertical-align: top;\n",
              "    }\n",
              "\n",
              "    .dataframe thead th {\n",
              "        text-align: right;\n",
              "    }\n",
              "</style>\n",
              "<table border=\"1\" class=\"dataframe\">\n",
              "  <thead>\n",
              "    <tr style=\"text-align: right;\">\n",
              "      <th></th>\n",
              "      <th>popularity</th>\n",
              "      <th>acousticness</th>\n",
              "      <th>danceability</th>\n",
              "      <th>duration_ms</th>\n",
              "      <th>energy</th>\n",
              "      <th>instrumentalness</th>\n",
              "      <th>liveness</th>\n",
              "      <th>loudness</th>\n",
              "      <th>speechiness</th>\n",
              "      <th>tempo</th>\n",
              "      <th>valence</th>\n",
              "    </tr>\n",
              "  </thead>\n",
              "  <tbody>\n",
              "    <tr>\n",
              "      <th>count</th>\n",
              "      <td>232725.000000</td>\n",
              "      <td>232725.000000</td>\n",
              "      <td>232725.000000</td>\n",
              "      <td>2.327250e+05</td>\n",
              "      <td>232725.000000</td>\n",
              "      <td>232725.000000</td>\n",
              "      <td>232725.000000</td>\n",
              "      <td>232725.000000</td>\n",
              "      <td>232725.000000</td>\n",
              "      <td>232725.000000</td>\n",
              "      <td>232725.000000</td>\n",
              "    </tr>\n",
              "    <tr>\n",
              "      <th>mean</th>\n",
              "      <td>41.127502</td>\n",
              "      <td>0.368560</td>\n",
              "      <td>0.554364</td>\n",
              "      <td>2.351223e+05</td>\n",
              "      <td>0.570958</td>\n",
              "      <td>0.148301</td>\n",
              "      <td>0.215009</td>\n",
              "      <td>-9.569885</td>\n",
              "      <td>0.120765</td>\n",
              "      <td>117.666585</td>\n",
              "      <td>0.454917</td>\n",
              "    </tr>\n",
              "    <tr>\n",
              "      <th>std</th>\n",
              "      <td>18.189948</td>\n",
              "      <td>0.354768</td>\n",
              "      <td>0.185608</td>\n",
              "      <td>1.189359e+05</td>\n",
              "      <td>0.263456</td>\n",
              "      <td>0.302768</td>\n",
              "      <td>0.198273</td>\n",
              "      <td>5.998204</td>\n",
              "      <td>0.185518</td>\n",
              "      <td>30.898907</td>\n",
              "      <td>0.260065</td>\n",
              "    </tr>\n",
              "    <tr>\n",
              "      <th>min</th>\n",
              "      <td>0.000000</td>\n",
              "      <td>0.000000</td>\n",
              "      <td>0.056900</td>\n",
              "      <td>1.538700e+04</td>\n",
              "      <td>0.000020</td>\n",
              "      <td>0.000000</td>\n",
              "      <td>0.009670</td>\n",
              "      <td>-52.457000</td>\n",
              "      <td>0.022200</td>\n",
              "      <td>30.379000</td>\n",
              "      <td>0.000000</td>\n",
              "    </tr>\n",
              "    <tr>\n",
              "      <th>25%</th>\n",
              "      <td>29.000000</td>\n",
              "      <td>0.037600</td>\n",
              "      <td>0.435000</td>\n",
              "      <td>1.828570e+05</td>\n",
              "      <td>0.385000</td>\n",
              "      <td>0.000000</td>\n",
              "      <td>0.097400</td>\n",
              "      <td>-11.771000</td>\n",
              "      <td>0.036700</td>\n",
              "      <td>92.959000</td>\n",
              "      <td>0.237000</td>\n",
              "    </tr>\n",
              "    <tr>\n",
              "      <th>50%</th>\n",
              "      <td>43.000000</td>\n",
              "      <td>0.232000</td>\n",
              "      <td>0.571000</td>\n",
              "      <td>2.204270e+05</td>\n",
              "      <td>0.605000</td>\n",
              "      <td>0.000044</td>\n",
              "      <td>0.128000</td>\n",
              "      <td>-7.762000</td>\n",
              "      <td>0.050100</td>\n",
              "      <td>115.778000</td>\n",
              "      <td>0.444000</td>\n",
              "    </tr>\n",
              "    <tr>\n",
              "      <th>75%</th>\n",
              "      <td>55.000000</td>\n",
              "      <td>0.722000</td>\n",
              "      <td>0.692000</td>\n",
              "      <td>2.657680e+05</td>\n",
              "      <td>0.787000</td>\n",
              "      <td>0.035800</td>\n",
              "      <td>0.264000</td>\n",
              "      <td>-5.501000</td>\n",
              "      <td>0.105000</td>\n",
              "      <td>139.054000</td>\n",
              "      <td>0.660000</td>\n",
              "    </tr>\n",
              "    <tr>\n",
              "      <th>max</th>\n",
              "      <td>100.000000</td>\n",
              "      <td>0.996000</td>\n",
              "      <td>0.989000</td>\n",
              "      <td>5.552917e+06</td>\n",
              "      <td>0.999000</td>\n",
              "      <td>0.999000</td>\n",
              "      <td>1.000000</td>\n",
              "      <td>3.744000</td>\n",
              "      <td>0.967000</td>\n",
              "      <td>242.903000</td>\n",
              "      <td>1.000000</td>\n",
              "    </tr>\n",
              "  </tbody>\n",
              "</table>\n",
              "</div>"
            ],
            "text/plain": [
              "          popularity   acousticness  ...          tempo        valence\n",
              "count  232725.000000  232725.000000  ...  232725.000000  232725.000000\n",
              "mean       41.127502       0.368560  ...     117.666585       0.454917\n",
              "std        18.189948       0.354768  ...      30.898907       0.260065\n",
              "min         0.000000       0.000000  ...      30.379000       0.000000\n",
              "25%        29.000000       0.037600  ...      92.959000       0.237000\n",
              "50%        43.000000       0.232000  ...     115.778000       0.444000\n",
              "75%        55.000000       0.722000  ...     139.054000       0.660000\n",
              "max       100.000000       0.996000  ...     242.903000       1.000000\n",
              "\n",
              "[8 rows x 11 columns]"
            ]
          },
          "metadata": {
            "tags": []
          },
          "execution_count": 10
        }
      ]
    },
    {
      "cell_type": "code",
      "metadata": {
        "colab": {
          "base_uri": "https://localhost:8080/",
          "height": 410
        },
        "id": "COGc8dAUAX0e",
        "outputId": "695ca4fc-3701-4f4c-ee99-fabc2626604d"
      },
      "source": [
        "# Your code here : for all columns\n",
        "df.describe(include=\"all\")"
      ],
      "execution_count": null,
      "outputs": [
        {
          "output_type": "execute_result",
          "data": {
            "text/html": [
              "<div>\n",
              "<style scoped>\n",
              "    .dataframe tbody tr th:only-of-type {\n",
              "        vertical-align: middle;\n",
              "    }\n",
              "\n",
              "    .dataframe tbody tr th {\n",
              "        vertical-align: top;\n",
              "    }\n",
              "\n",
              "    .dataframe thead th {\n",
              "        text-align: right;\n",
              "    }\n",
              "</style>\n",
              "<table border=\"1\" class=\"dataframe\">\n",
              "  <thead>\n",
              "    <tr style=\"text-align: right;\">\n",
              "      <th></th>\n",
              "      <th>genre</th>\n",
              "      <th>artist_name</th>\n",
              "      <th>track_name</th>\n",
              "      <th>track_id</th>\n",
              "      <th>popularity</th>\n",
              "      <th>acousticness</th>\n",
              "      <th>danceability</th>\n",
              "      <th>duration_ms</th>\n",
              "      <th>energy</th>\n",
              "      <th>instrumentalness</th>\n",
              "      <th>key</th>\n",
              "      <th>liveness</th>\n",
              "      <th>loudness</th>\n",
              "      <th>mode</th>\n",
              "      <th>speechiness</th>\n",
              "      <th>tempo</th>\n",
              "      <th>time_signature</th>\n",
              "      <th>valence</th>\n",
              "    </tr>\n",
              "  </thead>\n",
              "  <tbody>\n",
              "    <tr>\n",
              "      <th>count</th>\n",
              "      <td>232725</td>\n",
              "      <td>232725</td>\n",
              "      <td>232725</td>\n",
              "      <td>232725</td>\n",
              "      <td>232725.000000</td>\n",
              "      <td>232725.000000</td>\n",
              "      <td>232725.000000</td>\n",
              "      <td>2.327250e+05</td>\n",
              "      <td>232725.000000</td>\n",
              "      <td>232725.000000</td>\n",
              "      <td>232725</td>\n",
              "      <td>232725.000000</td>\n",
              "      <td>232725.000000</td>\n",
              "      <td>232725</td>\n",
              "      <td>232725.000000</td>\n",
              "      <td>232725.000000</td>\n",
              "      <td>232725</td>\n",
              "      <td>232725.000000</td>\n",
              "    </tr>\n",
              "    <tr>\n",
              "      <th>unique</th>\n",
              "      <td>27</td>\n",
              "      <td>14564</td>\n",
              "      <td>148615</td>\n",
              "      <td>176774</td>\n",
              "      <td>NaN</td>\n",
              "      <td>NaN</td>\n",
              "      <td>NaN</td>\n",
              "      <td>NaN</td>\n",
              "      <td>NaN</td>\n",
              "      <td>NaN</td>\n",
              "      <td>12</td>\n",
              "      <td>NaN</td>\n",
              "      <td>NaN</td>\n",
              "      <td>2</td>\n",
              "      <td>NaN</td>\n",
              "      <td>NaN</td>\n",
              "      <td>5</td>\n",
              "      <td>NaN</td>\n",
              "    </tr>\n",
              "    <tr>\n",
              "      <th>top</th>\n",
              "      <td>Comedy</td>\n",
              "      <td>Giuseppe Verdi</td>\n",
              "      <td>Home</td>\n",
              "      <td>0wY9rA9fJkuESyYm9uzVK5</td>\n",
              "      <td>NaN</td>\n",
              "      <td>NaN</td>\n",
              "      <td>NaN</td>\n",
              "      <td>NaN</td>\n",
              "      <td>NaN</td>\n",
              "      <td>NaN</td>\n",
              "      <td>C</td>\n",
              "      <td>NaN</td>\n",
              "      <td>NaN</td>\n",
              "      <td>Major</td>\n",
              "      <td>NaN</td>\n",
              "      <td>NaN</td>\n",
              "      <td>4/4</td>\n",
              "      <td>NaN</td>\n",
              "    </tr>\n",
              "    <tr>\n",
              "      <th>freq</th>\n",
              "      <td>9681</td>\n",
              "      <td>1394</td>\n",
              "      <td>100</td>\n",
              "      <td>8</td>\n",
              "      <td>NaN</td>\n",
              "      <td>NaN</td>\n",
              "      <td>NaN</td>\n",
              "      <td>NaN</td>\n",
              "      <td>NaN</td>\n",
              "      <td>NaN</td>\n",
              "      <td>27583</td>\n",
              "      <td>NaN</td>\n",
              "      <td>NaN</td>\n",
              "      <td>151744</td>\n",
              "      <td>NaN</td>\n",
              "      <td>NaN</td>\n",
              "      <td>200760</td>\n",
              "      <td>NaN</td>\n",
              "    </tr>\n",
              "    <tr>\n",
              "      <th>mean</th>\n",
              "      <td>NaN</td>\n",
              "      <td>NaN</td>\n",
              "      <td>NaN</td>\n",
              "      <td>NaN</td>\n",
              "      <td>41.127502</td>\n",
              "      <td>0.368560</td>\n",
              "      <td>0.554364</td>\n",
              "      <td>2.351223e+05</td>\n",
              "      <td>0.570958</td>\n",
              "      <td>0.148301</td>\n",
              "      <td>NaN</td>\n",
              "      <td>0.215009</td>\n",
              "      <td>-9.569885</td>\n",
              "      <td>NaN</td>\n",
              "      <td>0.120765</td>\n",
              "      <td>117.666585</td>\n",
              "      <td>NaN</td>\n",
              "      <td>0.454917</td>\n",
              "    </tr>\n",
              "    <tr>\n",
              "      <th>std</th>\n",
              "      <td>NaN</td>\n",
              "      <td>NaN</td>\n",
              "      <td>NaN</td>\n",
              "      <td>NaN</td>\n",
              "      <td>18.189948</td>\n",
              "      <td>0.354768</td>\n",
              "      <td>0.185608</td>\n",
              "      <td>1.189359e+05</td>\n",
              "      <td>0.263456</td>\n",
              "      <td>0.302768</td>\n",
              "      <td>NaN</td>\n",
              "      <td>0.198273</td>\n",
              "      <td>5.998204</td>\n",
              "      <td>NaN</td>\n",
              "      <td>0.185518</td>\n",
              "      <td>30.898907</td>\n",
              "      <td>NaN</td>\n",
              "      <td>0.260065</td>\n",
              "    </tr>\n",
              "    <tr>\n",
              "      <th>min</th>\n",
              "      <td>NaN</td>\n",
              "      <td>NaN</td>\n",
              "      <td>NaN</td>\n",
              "      <td>NaN</td>\n",
              "      <td>0.000000</td>\n",
              "      <td>0.000000</td>\n",
              "      <td>0.056900</td>\n",
              "      <td>1.538700e+04</td>\n",
              "      <td>0.000020</td>\n",
              "      <td>0.000000</td>\n",
              "      <td>NaN</td>\n",
              "      <td>0.009670</td>\n",
              "      <td>-52.457000</td>\n",
              "      <td>NaN</td>\n",
              "      <td>0.022200</td>\n",
              "      <td>30.379000</td>\n",
              "      <td>NaN</td>\n",
              "      <td>0.000000</td>\n",
              "    </tr>\n",
              "    <tr>\n",
              "      <th>25%</th>\n",
              "      <td>NaN</td>\n",
              "      <td>NaN</td>\n",
              "      <td>NaN</td>\n",
              "      <td>NaN</td>\n",
              "      <td>29.000000</td>\n",
              "      <td>0.037600</td>\n",
              "      <td>0.435000</td>\n",
              "      <td>1.828570e+05</td>\n",
              "      <td>0.385000</td>\n",
              "      <td>0.000000</td>\n",
              "      <td>NaN</td>\n",
              "      <td>0.097400</td>\n",
              "      <td>-11.771000</td>\n",
              "      <td>NaN</td>\n",
              "      <td>0.036700</td>\n",
              "      <td>92.959000</td>\n",
              "      <td>NaN</td>\n",
              "      <td>0.237000</td>\n",
              "    </tr>\n",
              "    <tr>\n",
              "      <th>50%</th>\n",
              "      <td>NaN</td>\n",
              "      <td>NaN</td>\n",
              "      <td>NaN</td>\n",
              "      <td>NaN</td>\n",
              "      <td>43.000000</td>\n",
              "      <td>0.232000</td>\n",
              "      <td>0.571000</td>\n",
              "      <td>2.204270e+05</td>\n",
              "      <td>0.605000</td>\n",
              "      <td>0.000044</td>\n",
              "      <td>NaN</td>\n",
              "      <td>0.128000</td>\n",
              "      <td>-7.762000</td>\n",
              "      <td>NaN</td>\n",
              "      <td>0.050100</td>\n",
              "      <td>115.778000</td>\n",
              "      <td>NaN</td>\n",
              "      <td>0.444000</td>\n",
              "    </tr>\n",
              "    <tr>\n",
              "      <th>75%</th>\n",
              "      <td>NaN</td>\n",
              "      <td>NaN</td>\n",
              "      <td>NaN</td>\n",
              "      <td>NaN</td>\n",
              "      <td>55.000000</td>\n",
              "      <td>0.722000</td>\n",
              "      <td>0.692000</td>\n",
              "      <td>2.657680e+05</td>\n",
              "      <td>0.787000</td>\n",
              "      <td>0.035800</td>\n",
              "      <td>NaN</td>\n",
              "      <td>0.264000</td>\n",
              "      <td>-5.501000</td>\n",
              "      <td>NaN</td>\n",
              "      <td>0.105000</td>\n",
              "      <td>139.054000</td>\n",
              "      <td>NaN</td>\n",
              "      <td>0.660000</td>\n",
              "    </tr>\n",
              "    <tr>\n",
              "      <th>max</th>\n",
              "      <td>NaN</td>\n",
              "      <td>NaN</td>\n",
              "      <td>NaN</td>\n",
              "      <td>NaN</td>\n",
              "      <td>100.000000</td>\n",
              "      <td>0.996000</td>\n",
              "      <td>0.989000</td>\n",
              "      <td>5.552917e+06</td>\n",
              "      <td>0.999000</td>\n",
              "      <td>0.999000</td>\n",
              "      <td>NaN</td>\n",
              "      <td>1.000000</td>\n",
              "      <td>3.744000</td>\n",
              "      <td>NaN</td>\n",
              "      <td>0.967000</td>\n",
              "      <td>242.903000</td>\n",
              "      <td>NaN</td>\n",
              "      <td>1.000000</td>\n",
              "    </tr>\n",
              "  </tbody>\n",
              "</table>\n",
              "</div>"
            ],
            "text/plain": [
              "         genre     artist_name  ... time_signature        valence\n",
              "count   232725          232725  ...         232725  232725.000000\n",
              "unique      27           14564  ...              5            NaN\n",
              "top     Comedy  Giuseppe Verdi  ...            4/4            NaN\n",
              "freq      9681            1394  ...         200760            NaN\n",
              "mean       NaN             NaN  ...            NaN       0.454917\n",
              "std        NaN             NaN  ...            NaN       0.260065\n",
              "min        NaN             NaN  ...            NaN       0.000000\n",
              "25%        NaN             NaN  ...            NaN       0.237000\n",
              "50%        NaN             NaN  ...            NaN       0.444000\n",
              "75%        NaN             NaN  ...            NaN       0.660000\n",
              "max        NaN             NaN  ...            NaN       1.000000\n",
              "\n",
              "[11 rows x 18 columns]"
            ]
          },
          "metadata": {
            "tags": []
          },
          "execution_count": 11
        }
      ]
    },
    {
      "cell_type": "markdown",
      "metadata": {
        "id": "CQir-zCD_gdE"
      },
      "source": [
        "##3 Résumé statistique\n"
      ]
    },
    {
      "cell_type": "markdown",
      "metadata": {
        "id": "EodY5sbPBaKI"
      },
      "source": [
        "###3.1 Donner le nombre de `track_id` par `artist_name`. Les résultats seront présentés par ordre décroissant pour une meilleure lisibilité."
      ]
    },
    {
      "cell_type": "markdown",
      "metadata": {
        "id": "Syum3VJ_Ds4D"
      },
      "source": [
        "####3.1.1 With `groupby()`"
      ]
    },
    {
      "cell_type": "code",
      "metadata": {
        "cellView": "both",
        "colab": {
          "base_uri": "https://localhost:8080/"
        },
        "id": "FbU4jrd3nIPJ",
        "outputId": "15550480-0f75-435e-b90e-66df9a3cef1b"
      },
      "source": [
        "# Your code here : \n",
        "df.groupby(['artist_name'])['track_id'].count().sort_values(ascending=False)\n",
        "\n",
        "# Equivalent :\n",
        "#df.groupby('artist_name')['track_id'].count().sort_values(ascending=False)"
      ],
      "execution_count": null,
      "outputs": [
        {
          "output_type": "execute_result",
          "data": {
            "text/plain": [
              "artist_name\n",
              "Giuseppe Verdi            1394\n",
              "Giacomo Puccini           1137\n",
              "Kimbo Children's Music     971\n",
              "Nobuo Uematsu              825\n",
              "Richard Wagner             804\n",
              "                          ... \n",
              "Rupert Holmes                1\n",
              "Four Mints                   1\n",
              "Running Touch                1\n",
              "Four80East                   1\n",
              "정진우                          1\n",
              "Name: track_id, Length: 14564, dtype: int64"
            ]
          },
          "metadata": {
            "tags": []
          },
          "execution_count": 12
        }
      ]
    },
    {
      "cell_type": "markdown",
      "metadata": {
        "id": "oiwwoL_3DxcL"
      },
      "source": [
        "####3.1.2 With `crosstab()`"
      ]
    },
    {
      "cell_type": "code",
      "metadata": {
        "id": "fM7MGMlSDxk5",
        "cellView": "both",
        "colab": {
          "base_uri": "https://localhost:8080/",
          "height": 450
        },
        "outputId": "6e2b61da-b4a6-41df-9689-ca92e25782d4"
      },
      "source": [
        "# Your code here :\n",
        "pd.crosstab(index=df['artist_name'], columns = 'nb tracks',  values=df['track_id'], aggfunc='count').sort_values(by='nb tracks', ascending=False)"
      ],
      "execution_count": null,
      "outputs": [
        {
          "output_type": "execute_result",
          "data": {
            "text/html": [
              "<div>\n",
              "<style scoped>\n",
              "    .dataframe tbody tr th:only-of-type {\n",
              "        vertical-align: middle;\n",
              "    }\n",
              "\n",
              "    .dataframe tbody tr th {\n",
              "        vertical-align: top;\n",
              "    }\n",
              "\n",
              "    .dataframe thead th {\n",
              "        text-align: right;\n",
              "    }\n",
              "</style>\n",
              "<table border=\"1\" class=\"dataframe\">\n",
              "  <thead>\n",
              "    <tr style=\"text-align: right;\">\n",
              "      <th>col_0</th>\n",
              "      <th>nb tracks</th>\n",
              "    </tr>\n",
              "    <tr>\n",
              "      <th>artist_name</th>\n",
              "      <th></th>\n",
              "    </tr>\n",
              "  </thead>\n",
              "  <tbody>\n",
              "    <tr>\n",
              "      <th>Giuseppe Verdi</th>\n",
              "      <td>1394</td>\n",
              "    </tr>\n",
              "    <tr>\n",
              "      <th>Giacomo Puccini</th>\n",
              "      <td>1137</td>\n",
              "    </tr>\n",
              "    <tr>\n",
              "      <th>Kimbo Children's Music</th>\n",
              "      <td>971</td>\n",
              "    </tr>\n",
              "    <tr>\n",
              "      <th>Nobuo Uematsu</th>\n",
              "      <td>825</td>\n",
              "    </tr>\n",
              "    <tr>\n",
              "      <th>Richard Wagner</th>\n",
              "      <td>804</td>\n",
              "    </tr>\n",
              "    <tr>\n",
              "      <th>...</th>\n",
              "      <td>...</td>\n",
              "    </tr>\n",
              "    <tr>\n",
              "      <th>Melanie De Biasio</th>\n",
              "      <td>1</td>\n",
              "    </tr>\n",
              "    <tr>\n",
              "      <th>Mel Tillis</th>\n",
              "      <td>1</td>\n",
              "    </tr>\n",
              "    <tr>\n",
              "      <th>Mel Levin</th>\n",
              "      <td>1</td>\n",
              "    </tr>\n",
              "    <tr>\n",
              "      <th>Meiko</th>\n",
              "      <td>1</td>\n",
              "    </tr>\n",
              "    <tr>\n",
              "      <th>정진우</th>\n",
              "      <td>1</td>\n",
              "    </tr>\n",
              "  </tbody>\n",
              "</table>\n",
              "<p>14564 rows × 1 columns</p>\n",
              "</div>"
            ],
            "text/plain": [
              "col_0                   nb tracks\n",
              "artist_name                      \n",
              "Giuseppe Verdi               1394\n",
              "Giacomo Puccini              1137\n",
              "Kimbo Children's Music        971\n",
              "Nobuo Uematsu                 825\n",
              "Richard Wagner                804\n",
              "...                           ...\n",
              "Melanie De Biasio               1\n",
              "Mel Tillis                      1\n",
              "Mel Levin                       1\n",
              "Meiko                           1\n",
              "정진우                             1\n",
              "\n",
              "[14564 rows x 1 columns]"
            ]
          },
          "metadata": {
            "tags": []
          },
          "execution_count": 13
        }
      ]
    },
    {
      "cell_type": "markdown",
      "metadata": {
        "id": "wegCEeMRFavn"
      },
      "source": [
        "####3.1.3 With `pivot_table()`"
      ]
    },
    {
      "cell_type": "code",
      "metadata": {
        "id": "j4ljcKNtFa5f",
        "cellView": "both",
        "colab": {
          "base_uri": "https://localhost:8080/",
          "height": 481
        },
        "outputId": "f7b8b88d-fc60-4921-c30c-a23df736b2ba"
      },
      "source": [
        "# Your code here :\n",
        "df.pivot_table(values='track_id', index='artist_name', aggfunc=['count']).sort_values(by=[('count','track_id')],ascending=False)"
      ],
      "execution_count": null,
      "outputs": [
        {
          "output_type": "execute_result",
          "data": {
            "text/html": [
              "<div>\n",
              "<style scoped>\n",
              "    .dataframe tbody tr th:only-of-type {\n",
              "        vertical-align: middle;\n",
              "    }\n",
              "\n",
              "    .dataframe tbody tr th {\n",
              "        vertical-align: top;\n",
              "    }\n",
              "\n",
              "    .dataframe thead tr th {\n",
              "        text-align: left;\n",
              "    }\n",
              "\n",
              "    .dataframe thead tr:last-of-type th {\n",
              "        text-align: right;\n",
              "    }\n",
              "</style>\n",
              "<table border=\"1\" class=\"dataframe\">\n",
              "  <thead>\n",
              "    <tr>\n",
              "      <th></th>\n",
              "      <th>count</th>\n",
              "    </tr>\n",
              "    <tr>\n",
              "      <th></th>\n",
              "      <th>track_id</th>\n",
              "    </tr>\n",
              "    <tr>\n",
              "      <th>artist_name</th>\n",
              "      <th></th>\n",
              "    </tr>\n",
              "  </thead>\n",
              "  <tbody>\n",
              "    <tr>\n",
              "      <th>Giuseppe Verdi</th>\n",
              "      <td>1394</td>\n",
              "    </tr>\n",
              "    <tr>\n",
              "      <th>Giacomo Puccini</th>\n",
              "      <td>1137</td>\n",
              "    </tr>\n",
              "    <tr>\n",
              "      <th>Kimbo Children's Music</th>\n",
              "      <td>971</td>\n",
              "    </tr>\n",
              "    <tr>\n",
              "      <th>Nobuo Uematsu</th>\n",
              "      <td>825</td>\n",
              "    </tr>\n",
              "    <tr>\n",
              "      <th>Richard Wagner</th>\n",
              "      <td>804</td>\n",
              "    </tr>\n",
              "    <tr>\n",
              "      <th>...</th>\n",
              "      <td>...</td>\n",
              "    </tr>\n",
              "    <tr>\n",
              "      <th>Melanie De Biasio</th>\n",
              "      <td>1</td>\n",
              "    </tr>\n",
              "    <tr>\n",
              "      <th>Mel Tillis</th>\n",
              "      <td>1</td>\n",
              "    </tr>\n",
              "    <tr>\n",
              "      <th>Mel Levin</th>\n",
              "      <td>1</td>\n",
              "    </tr>\n",
              "    <tr>\n",
              "      <th>Meiko</th>\n",
              "      <td>1</td>\n",
              "    </tr>\n",
              "    <tr>\n",
              "      <th>정진우</th>\n",
              "      <td>1</td>\n",
              "    </tr>\n",
              "  </tbody>\n",
              "</table>\n",
              "<p>14564 rows × 1 columns</p>\n",
              "</div>"
            ],
            "text/plain": [
              "                          count\n",
              "                       track_id\n",
              "artist_name                    \n",
              "Giuseppe Verdi             1394\n",
              "Giacomo Puccini            1137\n",
              "Kimbo Children's Music      971\n",
              "Nobuo Uematsu               825\n",
              "Richard Wagner              804\n",
              "...                         ...\n",
              "Melanie De Biasio             1\n",
              "Mel Tillis                    1\n",
              "Mel Levin                     1\n",
              "Meiko                         1\n",
              "정진우                           1\n",
              "\n",
              "[14564 rows x 1 columns]"
            ]
          },
          "metadata": {
            "tags": []
          },
          "execution_count": 14
        }
      ]
    },
    {
      "cell_type": "markdown",
      "metadata": {
        "id": "4kjJNt5A_sNY"
      },
      "source": [
        "###3.2 Donner la moyenne de `popularity` par `artist_name`. Les résultats seront présentés par ordre décroissant pour une meilleure lisibilité. Quels sont les artistes du top 3 ?"
      ]
    },
    {
      "cell_type": "markdown",
      "metadata": {
        "id": "7H77qb8AGik3"
      },
      "source": [
        "####3.2.1 With `groupby()`"
      ]
    },
    {
      "cell_type": "code",
      "metadata": {
        "cellView": "both",
        "colab": {
          "base_uri": "https://localhost:8080/"
        },
        "id": "TWWvoz8OnpUj",
        "outputId": "c81e80b5-ab8f-4c9e-bb7f-4712d7af7df2"
      },
      "source": [
        "# Your code here : \n",
        "df.groupby(['artist_name'])['popularity'].mean().sort_values(ascending=False)\n",
        "#df.groupby(['artist_name'])['popularity'].mean().sort_values(ascending=False).head(n=3)"
      ],
      "execution_count": null,
      "outputs": [
        {
          "output_type": "execute_result",
          "data": {
            "text/plain": [
              "artist_name\n",
              "Pedro Capó                 87.0\n",
              "Mario Bautista             85.0\n",
              "Mau y Ricky                83.0\n",
              "Kris Kross Amsterdam       82.0\n",
              "Ninho                      82.0\n",
              "                           ... \n",
              "Thomanerchor Leipzig        0.0\n",
              "Recess Monkey               0.0\n",
              "Peter Savelli               0.0\n",
              "Peter Schickele             0.0\n",
              "Land of Lakes Choirboys     0.0\n",
              "Name: popularity, Length: 14564, dtype: float64"
            ]
          },
          "metadata": {
            "tags": []
          },
          "execution_count": 15
        }
      ]
    },
    {
      "cell_type": "markdown",
      "metadata": {
        "id": "kInQN_dvGik8"
      },
      "source": [
        "####3.2.2 With `crosstab()`"
      ]
    },
    {
      "cell_type": "code",
      "metadata": {
        "id": "hBROsyKjGik9",
        "cellView": "both",
        "colab": {
          "base_uri": "https://localhost:8080/",
          "height": 450
        },
        "outputId": "f17d645c-7b72-42ae-d469-a4de99723f1a"
      },
      "source": [
        "# Your code here :\n",
        "pd.crosstab(index=df['artist_name'], columns = 'popularity', values=df['popularity'], aggfunc='mean').sort_values(by='popularity', ascending=False)\n",
        "#pd.crosstab(index=df['artist_name'], columns = 'popularity', values=df['popularity'], aggfunc='mean').sort_values(by='popularity', ascending=False).head(n=3)"
      ],
      "execution_count": null,
      "outputs": [
        {
          "output_type": "execute_result",
          "data": {
            "text/html": [
              "<div>\n",
              "<style scoped>\n",
              "    .dataframe tbody tr th:only-of-type {\n",
              "        vertical-align: middle;\n",
              "    }\n",
              "\n",
              "    .dataframe tbody tr th {\n",
              "        vertical-align: top;\n",
              "    }\n",
              "\n",
              "    .dataframe thead th {\n",
              "        text-align: right;\n",
              "    }\n",
              "</style>\n",
              "<table border=\"1\" class=\"dataframe\">\n",
              "  <thead>\n",
              "    <tr style=\"text-align: right;\">\n",
              "      <th>col_0</th>\n",
              "      <th>popularity</th>\n",
              "    </tr>\n",
              "    <tr>\n",
              "      <th>artist_name</th>\n",
              "      <th></th>\n",
              "    </tr>\n",
              "  </thead>\n",
              "  <tbody>\n",
              "    <tr>\n",
              "      <th>Pedro Capó</th>\n",
              "      <td>87.0</td>\n",
              "    </tr>\n",
              "    <tr>\n",
              "      <th>Mario Bautista</th>\n",
              "      <td>85.0</td>\n",
              "    </tr>\n",
              "    <tr>\n",
              "      <th>Mau y Ricky</th>\n",
              "      <td>83.0</td>\n",
              "    </tr>\n",
              "    <tr>\n",
              "      <th>Kris Kross Amsterdam</th>\n",
              "      <td>82.0</td>\n",
              "    </tr>\n",
              "    <tr>\n",
              "      <th>Ninho</th>\n",
              "      <td>82.0</td>\n",
              "    </tr>\n",
              "    <tr>\n",
              "      <th>...</th>\n",
              "      <td>...</td>\n",
              "    </tr>\n",
              "    <tr>\n",
              "      <th>Brent Holmes</th>\n",
              "      <td>0.0</td>\n",
              "    </tr>\n",
              "    <tr>\n",
              "      <th>The Wayfarers</th>\n",
              "      <td>0.0</td>\n",
              "    </tr>\n",
              "    <tr>\n",
              "      <th>Nursery Rhymes Club</th>\n",
              "      <td>0.0</td>\n",
              "    </tr>\n",
              "    <tr>\n",
              "      <th>Renee &amp; Jeremy</th>\n",
              "      <td>0.0</td>\n",
              "    </tr>\n",
              "    <tr>\n",
              "      <th>Steve Stevens</th>\n",
              "      <td>0.0</td>\n",
              "    </tr>\n",
              "  </tbody>\n",
              "</table>\n",
              "<p>14564 rows × 1 columns</p>\n",
              "</div>"
            ],
            "text/plain": [
              "col_0                 popularity\n",
              "artist_name                     \n",
              "Pedro Capó                  87.0\n",
              "Mario Bautista              85.0\n",
              "Mau y Ricky                 83.0\n",
              "Kris Kross Amsterdam        82.0\n",
              "Ninho                       82.0\n",
              "...                          ...\n",
              "Brent Holmes                 0.0\n",
              "The Wayfarers                0.0\n",
              "Nursery Rhymes Club          0.0\n",
              "Renee & Jeremy               0.0\n",
              "Steve Stevens                0.0\n",
              "\n",
              "[14564 rows x 1 columns]"
            ]
          },
          "metadata": {
            "tags": []
          },
          "execution_count": 16
        }
      ]
    },
    {
      "cell_type": "markdown",
      "metadata": {
        "id": "tprJOkfhGilA"
      },
      "source": [
        "####3.2.3 With `pivot_table()`"
      ]
    },
    {
      "cell_type": "code",
      "metadata": {
        "id": "25LJCNeTGilB",
        "cellView": "both",
        "colab": {
          "base_uri": "https://localhost:8080/",
          "height": 450
        },
        "outputId": "cac1a091-d7a2-4dc7-b730-e097012556a7"
      },
      "source": [
        "# Your code here :\n",
        "df[['artist_name', 'popularity']].pivot_table(values='popularity', index='artist_name', aggfunc=np.mean).sort_values('popularity', ascending = False)\n",
        "#df[['artist_name', 'popularity']].pivot_table(values='popularity', index='artist_name', aggfunc=np.mean).sort_values('popularity', ascending = False).head(n=3)"
      ],
      "execution_count": null,
      "outputs": [
        {
          "output_type": "execute_result",
          "data": {
            "text/html": [
              "<div>\n",
              "<style scoped>\n",
              "    .dataframe tbody tr th:only-of-type {\n",
              "        vertical-align: middle;\n",
              "    }\n",
              "\n",
              "    .dataframe tbody tr th {\n",
              "        vertical-align: top;\n",
              "    }\n",
              "\n",
              "    .dataframe thead th {\n",
              "        text-align: right;\n",
              "    }\n",
              "</style>\n",
              "<table border=\"1\" class=\"dataframe\">\n",
              "  <thead>\n",
              "    <tr style=\"text-align: right;\">\n",
              "      <th></th>\n",
              "      <th>popularity</th>\n",
              "    </tr>\n",
              "    <tr>\n",
              "      <th>artist_name</th>\n",
              "      <th></th>\n",
              "    </tr>\n",
              "  </thead>\n",
              "  <tbody>\n",
              "    <tr>\n",
              "      <th>Pedro Capó</th>\n",
              "      <td>87.0</td>\n",
              "    </tr>\n",
              "    <tr>\n",
              "      <th>Mario Bautista</th>\n",
              "      <td>85.0</td>\n",
              "    </tr>\n",
              "    <tr>\n",
              "      <th>Mau y Ricky</th>\n",
              "      <td>83.0</td>\n",
              "    </tr>\n",
              "    <tr>\n",
              "      <th>Kris Kross Amsterdam</th>\n",
              "      <td>82.0</td>\n",
              "    </tr>\n",
              "    <tr>\n",
              "      <th>Ninho</th>\n",
              "      <td>82.0</td>\n",
              "    </tr>\n",
              "    <tr>\n",
              "      <th>...</th>\n",
              "      <td>...</td>\n",
              "    </tr>\n",
              "    <tr>\n",
              "      <th>Brent Holmes</th>\n",
              "      <td>0.0</td>\n",
              "    </tr>\n",
              "    <tr>\n",
              "      <th>The Wayfarers</th>\n",
              "      <td>0.0</td>\n",
              "    </tr>\n",
              "    <tr>\n",
              "      <th>Nursery Rhymes Club</th>\n",
              "      <td>0.0</td>\n",
              "    </tr>\n",
              "    <tr>\n",
              "      <th>Renee &amp; Jeremy</th>\n",
              "      <td>0.0</td>\n",
              "    </tr>\n",
              "    <tr>\n",
              "      <th>Steve Stevens</th>\n",
              "      <td>0.0</td>\n",
              "    </tr>\n",
              "  </tbody>\n",
              "</table>\n",
              "<p>14564 rows × 1 columns</p>\n",
              "</div>"
            ],
            "text/plain": [
              "                      popularity\n",
              "artist_name                     \n",
              "Pedro Capó                  87.0\n",
              "Mario Bautista              85.0\n",
              "Mau y Ricky                 83.0\n",
              "Kris Kross Amsterdam        82.0\n",
              "Ninho                       82.0\n",
              "...                          ...\n",
              "Brent Holmes                 0.0\n",
              "The Wayfarers                0.0\n",
              "Nursery Rhymes Club          0.0\n",
              "Renee & Jeremy               0.0\n",
              "Steve Stevens                0.0\n",
              "\n",
              "[14564 rows x 1 columns]"
            ]
          },
          "metadata": {
            "tags": []
          },
          "execution_count": 17
        }
      ]
    },
    {
      "cell_type": "markdown",
      "metadata": {
        "id": "a0u6CHCS_5g-"
      },
      "source": [
        "###3.3 Pour le genre 'Pop' seulement, donner la moyenne de `popularity` par `artist_name`. Les résultats seront présentés par ordre décroissant pour une meilleure lisibilité. Quels sont les artistes du top 3 ? \n"
      ]
    },
    {
      "cell_type": "markdown",
      "metadata": {
        "id": "UfInzBARHtko"
      },
      "source": [
        "####3.3.1 With `groupby()`"
      ]
    },
    {
      "cell_type": "code",
      "metadata": {
        "cellView": "both",
        "colab": {
          "base_uri": "https://localhost:8080/"
        },
        "id": "QOb6BefkoC5S",
        "outputId": "cea3d06c-9e7a-42aa-9b94-b230a4af0762"
      },
      "source": [
        "# Your code here : \n",
        "df[df['genre']=='Pop'].groupby(['artist_name'])['popularity'].mean().sort_values(ascending=False)\n",
        "#df[df['genre']=='Pop'].groupby(['artist_name'])['popularity'].mean().sort_values(ascending=False).head(n=3)\n",
        "\n",
        "# Equivalent\n",
        "#df.loc[df['genre']=='Pop'].groupby(['artist_name'])['popularity'].mean().sort_values(ascending=False)"
      ],
      "execution_count": null,
      "outputs": [
        {
          "output_type": "execute_result",
          "data": {
            "text/plain": [
              "artist_name\n",
              "Mabel             91.000000\n",
              "Pedro Capó        87.000000\n",
              "ChocQuibTown      86.000000\n",
              "Mario Bautista    85.000000\n",
              "Tropkillaz        85.000000\n",
              "                    ...    \n",
              "Lisa Hannigan     54.000000\n",
              "Lucius            54.000000\n",
              "Ava Max           48.090909\n",
              "Grey              31.500000\n",
              "Melendi            3.000000\n",
              "Name: popularity, Length: 1999, dtype: float64"
            ]
          },
          "metadata": {
            "tags": []
          },
          "execution_count": 18
        }
      ]
    },
    {
      "cell_type": "markdown",
      "metadata": {
        "id": "G1z21ww-Htky"
      },
      "source": [
        "####3.3.2 With `crosstab()`"
      ]
    },
    {
      "cell_type": "code",
      "metadata": {
        "id": "W5F4xvQwHtkz",
        "cellView": "both",
        "colab": {
          "base_uri": "https://localhost:8080/",
          "height": 450
        },
        "outputId": "320d13e5-c297-4763-ab7f-b374b094c0ea"
      },
      "source": [
        "# Your code here :\n",
        "pd.crosstab(index=df.loc[df['genre']=='Pop', 'artist_name'], columns = 'popularity', values=df.loc[df['genre']=='Pop', 'popularity'], aggfunc='mean').sort_values(by=[('popularity')], ascending=False)\n",
        "#pd.crosstab(index=df.loc[df['genre']=='Pop', 'artist_name'], columns = 'popularity', values=df.loc[df['genre']=='Pop', 'popularity'], aggfunc='mean').sort_values(by=[('popularity')], ascending=False).head(3)"
      ],
      "execution_count": null,
      "outputs": [
        {
          "output_type": "execute_result",
          "data": {
            "text/html": [
              "<div>\n",
              "<style scoped>\n",
              "    .dataframe tbody tr th:only-of-type {\n",
              "        vertical-align: middle;\n",
              "    }\n",
              "\n",
              "    .dataframe tbody tr th {\n",
              "        vertical-align: top;\n",
              "    }\n",
              "\n",
              "    .dataframe thead th {\n",
              "        text-align: right;\n",
              "    }\n",
              "</style>\n",
              "<table border=\"1\" class=\"dataframe\">\n",
              "  <thead>\n",
              "    <tr style=\"text-align: right;\">\n",
              "      <th>col_0</th>\n",
              "      <th>popularity</th>\n",
              "    </tr>\n",
              "    <tr>\n",
              "      <th>artist_name</th>\n",
              "      <th></th>\n",
              "    </tr>\n",
              "  </thead>\n",
              "  <tbody>\n",
              "    <tr>\n",
              "      <th>Mabel</th>\n",
              "      <td>91.000000</td>\n",
              "    </tr>\n",
              "    <tr>\n",
              "      <th>Pedro Capó</th>\n",
              "      <td>87.000000</td>\n",
              "    </tr>\n",
              "    <tr>\n",
              "      <th>ChocQuibTown</th>\n",
              "      <td>86.000000</td>\n",
              "    </tr>\n",
              "    <tr>\n",
              "      <th>Mario Bautista</th>\n",
              "      <td>85.000000</td>\n",
              "    </tr>\n",
              "    <tr>\n",
              "      <th>Tropkillaz</th>\n",
              "      <td>85.000000</td>\n",
              "    </tr>\n",
              "    <tr>\n",
              "      <th>...</th>\n",
              "      <td>...</td>\n",
              "    </tr>\n",
              "    <tr>\n",
              "      <th>Lucius</th>\n",
              "      <td>54.000000</td>\n",
              "    </tr>\n",
              "    <tr>\n",
              "      <th>Lisa Hannigan</th>\n",
              "      <td>54.000000</td>\n",
              "    </tr>\n",
              "    <tr>\n",
              "      <th>Ava Max</th>\n",
              "      <td>48.090909</td>\n",
              "    </tr>\n",
              "    <tr>\n",
              "      <th>Grey</th>\n",
              "      <td>31.500000</td>\n",
              "    </tr>\n",
              "    <tr>\n",
              "      <th>Melendi</th>\n",
              "      <td>3.000000</td>\n",
              "    </tr>\n",
              "  </tbody>\n",
              "</table>\n",
              "<p>1999 rows × 1 columns</p>\n",
              "</div>"
            ],
            "text/plain": [
              "col_0           popularity\n",
              "artist_name               \n",
              "Mabel            91.000000\n",
              "Pedro Capó       87.000000\n",
              "ChocQuibTown     86.000000\n",
              "Mario Bautista   85.000000\n",
              "Tropkillaz       85.000000\n",
              "...                    ...\n",
              "Lucius           54.000000\n",
              "Lisa Hannigan    54.000000\n",
              "Ava Max          48.090909\n",
              "Grey             31.500000\n",
              "Melendi           3.000000\n",
              "\n",
              "[1999 rows x 1 columns]"
            ]
          },
          "metadata": {
            "tags": []
          },
          "execution_count": 27
        }
      ]
    },
    {
      "cell_type": "markdown",
      "metadata": {
        "id": "MMXntCkmHtk3"
      },
      "source": [
        "####3.3.3 With `pivot_table()`"
      ]
    },
    {
      "cell_type": "code",
      "metadata": {
        "id": "qYbeaTeSHtk4",
        "cellView": "both",
        "colab": {
          "base_uri": "https://localhost:8080/",
          "height": 450
        },
        "outputId": "75b224b1-64ac-4ac5-99b7-c7d43e171ede"
      },
      "source": [
        "# Your code here :\n",
        "df.loc[df['genre']=='Pop', ['artist_name', 'popularity']].pivot_table(values='popularity', index='artist_name', aggfunc=np.mean).sort_values('popularity', ascending = False)\n",
        "#df.loc[df['genre']=='Pop', ['artist_name', 'popularity']].pivot_table(values='popularity', index='artist_name', aggfunc=np.mean).sort_values('popularity', ascending = False).head(n=3)"
      ],
      "execution_count": null,
      "outputs": [
        {
          "output_type": "execute_result",
          "data": {
            "text/html": [
              "<div>\n",
              "<style scoped>\n",
              "    .dataframe tbody tr th:only-of-type {\n",
              "        vertical-align: middle;\n",
              "    }\n",
              "\n",
              "    .dataframe tbody tr th {\n",
              "        vertical-align: top;\n",
              "    }\n",
              "\n",
              "    .dataframe thead th {\n",
              "        text-align: right;\n",
              "    }\n",
              "</style>\n",
              "<table border=\"1\" class=\"dataframe\">\n",
              "  <thead>\n",
              "    <tr style=\"text-align: right;\">\n",
              "      <th></th>\n",
              "      <th>popularity</th>\n",
              "    </tr>\n",
              "    <tr>\n",
              "      <th>artist_name</th>\n",
              "      <th></th>\n",
              "    </tr>\n",
              "  </thead>\n",
              "  <tbody>\n",
              "    <tr>\n",
              "      <th>Mabel</th>\n",
              "      <td>91.000000</td>\n",
              "    </tr>\n",
              "    <tr>\n",
              "      <th>Pedro Capó</th>\n",
              "      <td>87.000000</td>\n",
              "    </tr>\n",
              "    <tr>\n",
              "      <th>ChocQuibTown</th>\n",
              "      <td>86.000000</td>\n",
              "    </tr>\n",
              "    <tr>\n",
              "      <th>Mario Bautista</th>\n",
              "      <td>85.000000</td>\n",
              "    </tr>\n",
              "    <tr>\n",
              "      <th>Tropkillaz</th>\n",
              "      <td>85.000000</td>\n",
              "    </tr>\n",
              "    <tr>\n",
              "      <th>...</th>\n",
              "      <td>...</td>\n",
              "    </tr>\n",
              "    <tr>\n",
              "      <th>Lucius</th>\n",
              "      <td>54.000000</td>\n",
              "    </tr>\n",
              "    <tr>\n",
              "      <th>Lisa Hannigan</th>\n",
              "      <td>54.000000</td>\n",
              "    </tr>\n",
              "    <tr>\n",
              "      <th>Ava Max</th>\n",
              "      <td>48.090909</td>\n",
              "    </tr>\n",
              "    <tr>\n",
              "      <th>Grey</th>\n",
              "      <td>31.500000</td>\n",
              "    </tr>\n",
              "    <tr>\n",
              "      <th>Melendi</th>\n",
              "      <td>3.000000</td>\n",
              "    </tr>\n",
              "  </tbody>\n",
              "</table>\n",
              "<p>1999 rows × 1 columns</p>\n",
              "</div>"
            ],
            "text/plain": [
              "                popularity\n",
              "artist_name               \n",
              "Mabel            91.000000\n",
              "Pedro Capó       87.000000\n",
              "ChocQuibTown     86.000000\n",
              "Mario Bautista   85.000000\n",
              "Tropkillaz       85.000000\n",
              "...                    ...\n",
              "Lucius           54.000000\n",
              "Lisa Hannigan    54.000000\n",
              "Ava Max          48.090909\n",
              "Grey             31.500000\n",
              "Melendi           3.000000\n",
              "\n",
              "[1999 rows x 1 columns]"
            ]
          },
          "metadata": {
            "tags": []
          },
          "execution_count": 28
        }
      ]
    },
    {
      "cell_type": "markdown",
      "metadata": {
        "id": "dvUdLAC1_8rd"
      },
      "source": [
        "### 3.4 Quels sont les `track_name` pour l'artiste Queen ?"
      ]
    },
    {
      "cell_type": "code",
      "metadata": {
        "id": "P9UUNh3J_uai",
        "cellView": "both",
        "colab": {
          "base_uri": "https://localhost:8080/",
          "height": 419
        },
        "outputId": "5c1d232a-a95e-40ce-a960-4fd38ee79bd8"
      },
      "source": [
        "# Your code here : \n",
        "df.loc[df['artist_name'] == 'Queen', ['artist_name','track_name']]\n",
        "\n",
        "# Equivalent :\n",
        "#df[df['artist_name']=='Queen'][['artist_name','track_name']]"
      ],
      "execution_count": null,
      "outputs": [
        {
          "output_type": "execute_result",
          "data": {
            "text/html": [
              "<div>\n",
              "<style scoped>\n",
              "    .dataframe tbody tr th:only-of-type {\n",
              "        vertical-align: middle;\n",
              "    }\n",
              "\n",
              "    .dataframe tbody tr th {\n",
              "        vertical-align: top;\n",
              "    }\n",
              "\n",
              "    .dataframe thead th {\n",
              "        text-align: right;\n",
              "    }\n",
              "</style>\n",
              "<table border=\"1\" class=\"dataframe\">\n",
              "  <thead>\n",
              "    <tr style=\"text-align: right;\">\n",
              "      <th></th>\n",
              "      <th>artist_name</th>\n",
              "      <th>track_name</th>\n",
              "    </tr>\n",
              "  </thead>\n",
              "  <tbody>\n",
              "    <tr>\n",
              "      <th>152988</th>\n",
              "      <td>Queen</td>\n",
              "      <td>We Are The Champions</td>\n",
              "    </tr>\n",
              "    <tr>\n",
              "      <th>153284</th>\n",
              "      <td>Queen</td>\n",
              "      <td>Get Down, Make Love - Remastered 2011</td>\n",
              "    </tr>\n",
              "    <tr>\n",
              "      <th>153622</th>\n",
              "      <td>Queen</td>\n",
              "      <td>Sheer Heart Attack - Remastered 2011</td>\n",
              "    </tr>\n",
              "    <tr>\n",
              "      <th>153734</th>\n",
              "      <td>Queen</td>\n",
              "      <td>Seaside Rendezvous - Remastered 2011</td>\n",
              "    </tr>\n",
              "    <tr>\n",
              "      <th>154806</th>\n",
              "      <td>Queen</td>\n",
              "      <td>Sleeping On The Sidewalk - Remastered 2011</td>\n",
              "    </tr>\n",
              "    <tr>\n",
              "      <th>...</th>\n",
              "      <td>...</td>\n",
              "      <td>...</td>\n",
              "    </tr>\n",
              "    <tr>\n",
              "      <th>225833</th>\n",
              "      <td>Queen</td>\n",
              "      <td>Fat Bottomed Girls</td>\n",
              "    </tr>\n",
              "    <tr>\n",
              "      <th>225906</th>\n",
              "      <td>Queen</td>\n",
              "      <td>All Dead, All Dead - Remastered 2011</td>\n",
              "    </tr>\n",
              "    <tr>\n",
              "      <th>226106</th>\n",
              "      <td>Queen</td>\n",
              "      <td>Somebody To Love</td>\n",
              "    </tr>\n",
              "    <tr>\n",
              "      <th>226296</th>\n",
              "      <td>Queen</td>\n",
              "      <td>No-One But You (Only The Good Die Young)</td>\n",
              "    </tr>\n",
              "    <tr>\n",
              "      <th>226415</th>\n",
              "      <td>Queen</td>\n",
              "      <td>Thank God It's Christmas - 2011 Remaster</td>\n",
              "    </tr>\n",
              "  </tbody>\n",
              "</table>\n",
              "<p>97 rows × 2 columns</p>\n",
              "</div>"
            ],
            "text/plain": [
              "       artist_name                                  track_name\n",
              "152988       Queen                        We Are The Champions\n",
              "153284       Queen       Get Down, Make Love - Remastered 2011\n",
              "153622       Queen        Sheer Heart Attack - Remastered 2011\n",
              "153734       Queen        Seaside Rendezvous - Remastered 2011\n",
              "154806       Queen  Sleeping On The Sidewalk - Remastered 2011\n",
              "...            ...                                         ...\n",
              "225833       Queen                          Fat Bottomed Girls\n",
              "225906       Queen        All Dead, All Dead - Remastered 2011\n",
              "226106       Queen                            Somebody To Love\n",
              "226296       Queen    No-One But You (Only The Good Die Young)\n",
              "226415       Queen    Thank God It's Christmas - 2011 Remaster\n",
              "\n",
              "[97 rows x 2 columns]"
            ]
          },
          "metadata": {
            "tags": []
          },
          "execution_count": 29
        }
      ]
    },
    {
      "cell_type": "markdown",
      "metadata": {
        "id": "zpV-PfqX_-Em"
      },
      "source": [
        "###3.5 Quelle est la popularité des chansons de Queen ? Les résultats seront présentés par ordre décroissant pour une meilleure lisibilité. Quels sont les chansons du top 3 ?\n"
      ]
    },
    {
      "cell_type": "code",
      "metadata": {
        "id": "CWAL9R8rwR2C",
        "cellView": "both",
        "colab": {
          "base_uri": "https://localhost:8080/",
          "height": 142
        },
        "outputId": "a4d46796-6cbd-47c1-9a76-28faf297ebbb"
      },
      "source": [
        "df.loc[df['artist_name'] == 'Queen', ['artist_name','track_name', 'popularity']].sort_values(by='popularity', ascending=False)\n",
        "#df.loc[df['artist_name'] == 'Queen', ['artist_name','track_name', 'popularity']].sort_values(by='popularity', ascending=False).head(3)"
      ],
      "execution_count": null,
      "outputs": [
        {
          "output_type": "execute_result",
          "data": {
            "text/html": [
              "<div>\n",
              "<style scoped>\n",
              "    .dataframe tbody tr th:only-of-type {\n",
              "        vertical-align: middle;\n",
              "    }\n",
              "\n",
              "    .dataframe tbody tr th {\n",
              "        vertical-align: top;\n",
              "    }\n",
              "\n",
              "    .dataframe thead th {\n",
              "        text-align: right;\n",
              "    }\n",
              "</style>\n",
              "<table border=\"1\" class=\"dataframe\">\n",
              "  <thead>\n",
              "    <tr style=\"text-align: right;\">\n",
              "      <th></th>\n",
              "      <th>artist_name</th>\n",
              "      <th>track_name</th>\n",
              "      <th>popularity</th>\n",
              "    </tr>\n",
              "  </thead>\n",
              "  <tbody>\n",
              "    <tr>\n",
              "      <th>166058</th>\n",
              "      <td>Queen</td>\n",
              "      <td>Bohemian Rhapsody - Remastered 2011</td>\n",
              "      <td>82</td>\n",
              "    </tr>\n",
              "    <tr>\n",
              "      <th>166059</th>\n",
              "      <td>Queen</td>\n",
              "      <td>Don't Stop Me Now - Remastered</td>\n",
              "      <td>81</td>\n",
              "    </tr>\n",
              "    <tr>\n",
              "      <th>166069</th>\n",
              "      <td>Queen</td>\n",
              "      <td>Somebody To Love - Remastered 2011</td>\n",
              "      <td>77</td>\n",
              "    </tr>\n",
              "  </tbody>\n",
              "</table>\n",
              "</div>"
            ],
            "text/plain": [
              "       artist_name                           track_name  popularity\n",
              "166058       Queen  Bohemian Rhapsody - Remastered 2011          82\n",
              "166059       Queen       Don't Stop Me Now - Remastered          81\n",
              "166069       Queen   Somebody To Love - Remastered 2011          77"
            ]
          },
          "metadata": {
            "tags": []
          },
          "execution_count": 31
        }
      ]
    },
    {
      "cell_type": "markdown",
      "metadata": {
        "id": "Iuv9MhCCtT6d"
      },
      "source": [
        "##4 Graphiques"
      ]
    },
    {
      "cell_type": "markdown",
      "metadata": {
        "id": "q2r4EMg7qdVl"
      },
      "source": [
        "Rappels, les graphiques doivent avoir :\n",
        "- des couleurs adaptées et lisibles\n",
        "- un titre\n",
        "- des axes clairs et lisibles\n",
        "- des légendes"
      ]
    },
    {
      "cell_type": "markdown",
      "metadata": {
        "id": "dClLVFe2lNNk"
      },
      "source": [
        "###4.1 Scatterplot\n",
        "Représenter un scatterplot (nuage de points) pour les colonnes de votre choix en respectant les contraintes :\n",
        "- Représenter uniquement les données des genres Opera et Reggaeton,\n",
        "- Couleurs différentes par genre."
      ]
    },
    {
      "cell_type": "code",
      "metadata": {
        "id": "4smhU1xf_BhK",
        "cellView": "both",
        "colab": {
          "base_uri": "https://localhost:8080/",
          "height": 535
        },
        "outputId": "b8f84197-2e0a-48fa-b1a7-6e509f1c8b6a"
      },
      "source": [
        "# Your code here :\n",
        "plt.figure(figsize=(12,8))\n",
        "sns.scatterplot(data = df.loc[df['genre'].isin(['Opera', 'Reggaeton'])], x = 'energy', y = 'acousticness', hue = 'genre', alpha = 0.5, s=10, palette=\"Set2\")\n",
        "plt.title('The BEAUTIFUL scatterplot !')"
      ],
      "execution_count": null,
      "outputs": [
        {
          "output_type": "execute_result",
          "data": {
            "text/plain": [
              "Text(0.5, 1.0, 'The BEAUTIFUL scatterplot !')"
            ]
          },
          "metadata": {
            "tags": []
          },
          "execution_count": 34
        },
        {
          "output_type": "display_data",
          "data": {
            "image/png": "[encoded data removed]",
            "text/plain": [
              "<Figure size 864x576 with 1 Axes>"
            ]
          },
          "metadata": {
            "tags": []
          }
        }
      ]
    },
    {
      "cell_type": "markdown",
      "metadata": {
        "id": "OuPHIzlMFLXO"
      },
      "source": [
        "Commenter le graphique :\n",
        "-  \n",
        "-  \n",
        "-  "
      ]
    },
    {
      "cell_type": "markdown",
      "metadata": {
        "id": "FZBXanXblwuS"
      },
      "source": [
        "###4.2 Boxplot\n",
        "Représenter un boxplot (boite à moustaches) pour les colonnes de votre choix en respectant les contraintes :\n",
        "- Représenter uniquement les données des genres Opera et Reggaeton,\n",
        "- Couleurs différentes par genre."
      ]
    },
    {
      "cell_type": "code",
      "metadata": {
        "id": "D6yREBRrofvV",
        "cellView": "both",
        "colab": {
          "base_uri": "https://localhost:8080/",
          "height": 535
        },
        "outputId": "16c9101a-0d39-4c04-d02c-628a95edfd02"
      },
      "source": [
        "plt.figure(figsize=(12, 8))\n",
        "sns.boxplot(x='genre', y= 'danceability', data=df.loc[df['genre'].isin(['Opera', 'Reggaeton'])], palette=\"Set2\")\n",
        "plt.title('Danceability for Opera & Reggaeton')"
      ],
      "execution_count": null,
      "outputs": [
        {
          "output_type": "execute_result",
          "data": {
            "text/plain": [
              "Text(0.5, 1.0, 'Danceability for Opera & Reggaeton')"
            ]
          },
          "metadata": {
            "tags": []
          },
          "execution_count": 36
        },
        {
          "output_type": "display_data",
          "data": {
            "image/png": "[encoded data removed]",
            "text/plain": [
              "<Figure size 864x576 with 1 Axes>"
            ]
          },
          "metadata": {
            "tags": []
          }
        }
      ]
    },
    {
      "cell_type": "markdown",
      "metadata": {
        "id": "ghOVEmcwFUG0"
      },
      "source": [
        "Commenter le graphique :\n",
        "-  \n",
        "-  \n",
        "-  "
      ]
    },
    {
      "cell_type": "markdown",
      "metadata": {
        "id": "3QTc3cBCo6uU"
      },
      "source": [
        "### 4.3 Histogramme\n",
        "Représenter un histogramne pour les données \"energy\" et seulement pour la genre \"Country\"."
      ]
    },
    {
      "cell_type": "code",
      "metadata": {
        "id": "KQl7eT6wo7J0",
        "cellView": "both",
        "colab": {
          "base_uri": "https://localhost:8080/",
          "height": 481
        },
        "outputId": "a265e29f-283f-4ede-b453-cb71895d5592"
      },
      "source": [
        "plt.figure(figsize=(8, 6))\n",
        "sns.distplot(df.loc[df['genre'] == 'Country']['energy'], bins = 30)\n",
        "plt.title('Distribution of energy for Country music')\n",
        "\n",
        "# Equivalent\n",
        "#sns.distplot(df.loc[df['genre'].isin(['Country']), 'energy'], bins = 30)"
      ],
      "execution_count": null,
      "outputs": [
        {
          "output_type": "stream",
          "text": [
            "/usr/local/lib/python3.6/dist-packages/seaborn/distributions.py:2551: FutureWarning: `distplot` is a deprecated function and will be removed in a future version. Please adapt your code to use either `displot` (a figure-level function with similar flexibility) or `histplot` (an axes-level function for histograms).\n",
            "  warnings.warn(msg, FutureWarning)\n"
          ],
          "name": "stderr"
        },
        {
          "output_type": "execute_result",
          "data": {
            "text/plain": [
              "Text(0.5, 1.0, 'Distribution of energy for Country music')"
            ]
          },
          "metadata": {
            "tags": []
          },
          "execution_count": 40
        },
        {
          "output_type": "display_data",
          "data": {
            "image/png": "[encoded data removed]",
            "text/plain": [
              "<Figure size 576x432 with 1 Axes>"
            ]
          },
          "metadata": {
            "tags": []
          }
        }
      ]
    },
    {
      "cell_type": "markdown",
      "metadata": {
        "id": "5RsXEvt6Fq6x"
      },
      "source": [
        "Commenter le graphique :\n",
        "-  \n",
        "-  \n",
        "-  "
      ]
    },
    {
      "cell_type": "markdown",
      "metadata": {
        "id": "7d6c1zivFwZZ"
      },
      "source": [
        "**Bravo vous êtes arrivés à la fin du point d'étape n°1 !!!**  \n",
        "Vous en n'avez pas eu assez ????? Alors un petit bonus ! :)  "
      ]
    },
    {
      "cell_type": "markdown",
      "metadata": {
        "id": "hu5sUDb82K-_"
      },
      "source": [
        "## Bonus : Algorithmie\n",
        "Programmer un algorithme de compte à rebours :\n",
        "- A partir d'une valeur donnée, le programme doit décompter et afficher la valeur décomptée à chaque étape,\n",
        "- Lorsque le décompte atteint la valeur 3, le programme doit afficher un message de votre choix,\n",
        "- Le décompte s'arrête à la valeur 3 et ne va pas au-delà."
      ]
    },
    {
      "cell_type": "code",
      "metadata": {
        "id": "e3enQ_682DWx",
        "colab": {
          "base_uri": "https://localhost:8080/"
        },
        "outputId": "e06ff086-ff17-46c8-b7d5-3897dad32590"
      },
      "source": [
        "# Your code here :\n",
        "valeur = 10\n",
        "\n",
        "for i in range(valeur):\n",
        "  valeur -= 1\n",
        "  print(valeur)\n",
        "  if valeur == 3:\n",
        "    print(\"Vous avez atteint la limite autorisée !\")\n",
        "    break"
      ],
      "execution_count": null,
      "outputs": [
        {
          "output_type": "stream",
          "text": [
            "9\n",
            "8\n",
            "7\n",
            "6\n",
            "5\n",
            "4\n",
            "3\n",
            "Vous avez atteint la limite autorisée !\n"
          ],
          "name": "stdout"
        }
      ]
    }
  ]
}