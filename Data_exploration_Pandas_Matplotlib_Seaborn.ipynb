{
  "nbformat": 4,
  "nbformat_minor": 0,
  "metadata": {
    "colab": {
      "name": "Data exploration_Pandas_Matplotlib_Seaborn.ipynb",
      "provenance": [],
      "collapsed_sections": [],
      "toc_visible": true,
      "include_colab_link": true
    },
    "kernelspec": {
      "name": "python3",
      "display_name": "Python 3"
    }
  },
  "cells": [
    {
      "cell_type": "markdown",
      "metadata": {
        "id": "view-in-github",
        "colab_type": "text"
      },
      "source": [
        "<a href=\"https://colab.research.google.com/github/remijul/exercice/blob/main/Data_exploration_Pandas_Matplotlib_Seaborn.ipynb\" target=\"_parent\"><img src=\"https://colab.research.google.com/assets/colab-badge.svg\" alt=\"Open In Colab\"/></a>"
      ]
    },
    {
      "cell_type": "markdown",
      "metadata": {
        "id": "pJsqufvk5fOq"
      },
      "source": [
        "# Point d'étape n°1 - Octobre 2020\n",
        "Il vous est demandé ici d'importer des données, de les explorer, d'en faire des résumés statistiques et graphiques.  \n",
        "Veuillez suivre les questions et formulez votre code pour répondre aux questions.  \n",
        "Chaque question est indépendante mais elles sont données dans un ordre logique d'analyse d'un jeu de données.  \n",
        "  \n",
        "Faites une copie de ce Colab dans votre Drive, modifiez-le librement puis partager votre travail en fin de session. Veuillez vous assurer que les accès à votre document sont autorisés à des tiers.\n"
      ]
    },
    {
      "cell_type": "markdown",
      "metadata": {
        "id": "YO9riWqL886F"
      },
      "source": [
        "##0 Initalisation\n",
        "Veuillez exécuter le code ci-dessous.\n"
      ]
    },
    {
      "cell_type": "code",
      "metadata": {
        "id": "U4GqLhGX5Yth",
        "outputId": "4062a859-9302-4f57-bf2a-b3eccf2a9161",
        "colab": {
          "base_uri": "https://localhost:8080/",
          "height": 361
        }
      },
      "source": [
        "import pandas as pd\n",
        "import numpy as np\n",
        "import matplotlib.pyplot as plt\n",
        "import seaborn as sns ; sns.set()\n",
        "\n",
        "\n",
        "url = \"https://raw.githubusercontent.com/remijul/dataset/8420fb821aac0202b5b874b45857c7f0f9d79482/spotify.zip\"\n",
        "df = pd.read_csv(url)\n",
        "df.head()"
      ],
      "execution_count": 1,
      "outputs": [
        {
          "output_type": "execute_result",
          "data": {
            "text/html": [
              "<div>\n",
              "<style scoped>\n",
              "    .dataframe tbody tr th:only-of-type {\n",
              "        vertical-align: middle;\n",
              "    }\n",
              "\n",
              "    .dataframe tbody tr th {\n",
              "        vertical-align: top;\n",
              "    }\n",
              "\n",
              "    .dataframe thead th {\n",
              "        text-align: right;\n",
              "    }\n",
              "</style>\n",
              "<table border=\"1\" class=\"dataframe\">\n",
              "  <thead>\n",
              "    <tr style=\"text-align: right;\">\n",
              "      <th></th>\n",
              "      <th>genre</th>\n",
              "      <th>artist_name</th>\n",
              "      <th>track_name</th>\n",
              "      <th>track_id</th>\n",
              "      <th>popularity</th>\n",
              "      <th>acousticness</th>\n",
              "      <th>danceability</th>\n",
              "      <th>duration_ms</th>\n",
              "      <th>energy</th>\n",
              "      <th>instrumentalness</th>\n",
              "      <th>key</th>\n",
              "      <th>liveness</th>\n",
              "      <th>loudness</th>\n",
              "      <th>mode</th>\n",
              "      <th>speechiness</th>\n",
              "      <th>tempo</th>\n",
              "      <th>time_signature</th>\n",
              "      <th>valence</th>\n",
              "    </tr>\n",
              "  </thead>\n",
              "  <tbody>\n",
              "    <tr>\n",
              "      <th>0</th>\n",
              "      <td>Movie</td>\n",
              "      <td>Henri Salvador</td>\n",
              "      <td>C'est beau de faire un Show</td>\n",
              "      <td>0BRjO6ga9RKCKjfDqeFgWV</td>\n",
              "      <td>0</td>\n",
              "      <td>0.611</td>\n",
              "      <td>0.389</td>\n",
              "      <td>99373</td>\n",
              "      <td>0.910</td>\n",
              "      <td>0.000</td>\n",
              "      <td>C#</td>\n",
              "      <td>0.3460</td>\n",
              "      <td>-1.828</td>\n",
              "      <td>Major</td>\n",
              "      <td>0.0525</td>\n",
              "      <td>166.969</td>\n",
              "      <td>4/4</td>\n",
              "      <td>0.814</td>\n",
              "    </tr>\n",
              "    <tr>\n",
              "      <th>1</th>\n",
              "      <td>Movie</td>\n",
              "      <td>Martin &amp; les fées</td>\n",
              "      <td>Perdu d'avance (par Gad Elmaleh)</td>\n",
              "      <td>0BjC1NfoEOOusryehmNudP</td>\n",
              "      <td>1</td>\n",
              "      <td>0.246</td>\n",
              "      <td>0.590</td>\n",
              "      <td>137373</td>\n",
              "      <td>0.737</td>\n",
              "      <td>0.000</td>\n",
              "      <td>F#</td>\n",
              "      <td>0.1510</td>\n",
              "      <td>-5.559</td>\n",
              "      <td>Minor</td>\n",
              "      <td>0.0868</td>\n",
              "      <td>174.003</td>\n",
              "      <td>4/4</td>\n",
              "      <td>0.816</td>\n",
              "    </tr>\n",
              "    <tr>\n",
              "      <th>2</th>\n",
              "      <td>Movie</td>\n",
              "      <td>Joseph Williams</td>\n",
              "      <td>Don't Let Me Be Lonely Tonight</td>\n",
              "      <td>0CoSDzoNIKCRs124s9uTVy</td>\n",
              "      <td>3</td>\n",
              "      <td>0.952</td>\n",
              "      <td>0.663</td>\n",
              "      <td>170267</td>\n",
              "      <td>0.131</td>\n",
              "      <td>0.000</td>\n",
              "      <td>C</td>\n",
              "      <td>0.1030</td>\n",
              "      <td>-13.879</td>\n",
              "      <td>Minor</td>\n",
              "      <td>0.0362</td>\n",
              "      <td>99.488</td>\n",
              "      <td>5/4</td>\n",
              "      <td>0.368</td>\n",
              "    </tr>\n",
              "    <tr>\n",
              "      <th>3</th>\n",
              "      <td>Movie</td>\n",
              "      <td>Henri Salvador</td>\n",
              "      <td>Dis-moi Monsieur Gordon Cooper</td>\n",
              "      <td>0Gc6TVm52BwZD07Ki6tIvf</td>\n",
              "      <td>0</td>\n",
              "      <td>0.703</td>\n",
              "      <td>0.240</td>\n",
              "      <td>152427</td>\n",
              "      <td>0.326</td>\n",
              "      <td>0.000</td>\n",
              "      <td>C#</td>\n",
              "      <td>0.0985</td>\n",
              "      <td>-12.178</td>\n",
              "      <td>Major</td>\n",
              "      <td>0.0395</td>\n",
              "      <td>171.758</td>\n",
              "      <td>4/4</td>\n",
              "      <td>0.227</td>\n",
              "    </tr>\n",
              "    <tr>\n",
              "      <th>4</th>\n",
              "      <td>Movie</td>\n",
              "      <td>Fabien Nataf</td>\n",
              "      <td>Ouverture</td>\n",
              "      <td>0IuslXpMROHdEPvSl1fTQK</td>\n",
              "      <td>4</td>\n",
              "      <td>0.950</td>\n",
              "      <td>0.331</td>\n",
              "      <td>82625</td>\n",
              "      <td>0.225</td>\n",
              "      <td>0.123</td>\n",
              "      <td>F</td>\n",
              "      <td>0.2020</td>\n",
              "      <td>-21.150</td>\n",
              "      <td>Major</td>\n",
              "      <td>0.0456</td>\n",
              "      <td>140.576</td>\n",
              "      <td>4/4</td>\n",
              "      <td>0.390</td>\n",
              "    </tr>\n",
              "  </tbody>\n",
              "</table>\n",
              "</div>"
            ],
            "text/plain": [
              "   genre        artist_name  ... time_signature valence\n",
              "0  Movie     Henri Salvador  ...            4/4   0.814\n",
              "1  Movie  Martin & les fées  ...            4/4   0.816\n",
              "2  Movie    Joseph Williams  ...            5/4   0.368\n",
              "3  Movie     Henri Salvador  ...            4/4   0.227\n",
              "4  Movie       Fabien Nataf  ...            4/4   0.390\n",
              "\n",
              "[5 rows x 18 columns]"
            ]
          },
          "metadata": {
            "tags": []
          },
          "execution_count": 1
        }
      ]
    },
    {
      "cell_type": "markdown",
      "metadata": {
        "id": "89frweXF_BxX"
      },
      "source": [
        "##1 Exploration des données"
      ]
    },
    {
      "cell_type": "markdown",
      "metadata": {
        "id": "7KJBd0fy_P5s"
      },
      "source": [
        "###1.1 Quelles sont les dimensions du jeu de données ?"
      ]
    },
    {
      "cell_type": "code",
      "metadata": {
        "id": "hmftMuA2_gMt"
      },
      "source": [
        "# Your code here : "
      ],
      "execution_count": null,
      "outputs": []
    },
    {
      "cell_type": "markdown",
      "metadata": {
        "id": "HyVOXFrN_kYU"
      },
      "source": [
        "###1.2 Quelles sont les colonnes (nom et typage) du jeu de données ?\n"
      ]
    },
    {
      "cell_type": "code",
      "metadata": {
        "id": "5bs0fW82_kYW"
      },
      "source": [
        "# Your code here : "
      ],
      "execution_count": null,
      "outputs": []
    },
    {
      "cell_type": "markdown",
      "metadata": {
        "id": "8ukubNIP_uWU"
      },
      "source": [
        "###1.3 Est-ce que le jeu de données contient des données manquantes ? Commenter les résultats obtenus."
      ]
    },
    {
      "cell_type": "code",
      "metadata": {
        "id": "mSrT3jgg_uWW"
      },
      "source": [
        "# Your code here : "
      ],
      "execution_count": null,
      "outputs": []
    },
    {
      "cell_type": "markdown",
      "metadata": {
        "id": "p0CRK5BA_77g"
      },
      "source": [
        "###1.4 Afficher les 10 premières lignes de jeu de données.\n"
      ]
    },
    {
      "cell_type": "code",
      "metadata": {
        "id": "XA6VwcGL_77j"
      },
      "source": [
        "# Your code here : "
      ],
      "execution_count": null,
      "outputs": []
    },
    {
      "cell_type": "markdown",
      "metadata": {
        "id": "ozi8Zk-1-CfQ"
      },
      "source": [
        "##2 Description des données"
      ]
    },
    {
      "cell_type": "markdown",
      "metadata": {
        "id": "BdpoQ5fi_Hjm"
      },
      "source": [
        "###2.1 Décrire les variables (colonnes) numériques du jeu de données. Commenter les résultats obtenus."
      ]
    },
    {
      "cell_type": "code",
      "metadata": {
        "id": "YPgfP0Dg_Jkb",
        "cellView": "both"
      },
      "source": [
        "# Your code here : \n"
      ],
      "execution_count": null,
      "outputs": []
    },
    {
      "cell_type": "markdown",
      "metadata": {
        "id": "CQir-zCD_gdE"
      },
      "source": [
        "##3 Résumé statistique\n"
      ]
    },
    {
      "cell_type": "markdown",
      "metadata": {
        "id": "EodY5sbPBaKI"
      },
      "source": [
        "###3.1 Donner le nombre de `track_id` par `artist_name`. Les résultats seront présentés par ordre décroissant pour une meilleure lisibilité."
      ]
    },
    {
      "cell_type": "code",
      "metadata": {
        "id": "8nU4ZGwK_OxR",
        "cellView": "both"
      },
      "source": [
        "# Your code here : "
      ],
      "execution_count": null,
      "outputs": []
    },
    {
      "cell_type": "markdown",
      "metadata": {
        "id": "4kjJNt5A_sNY"
      },
      "source": [
        "###3.2 Donner la moyenne de `popularity` par `artist_name`. Les résultats seront présentés par ordre décroissant pour une meilleure lisibilité. Quels sont les artistes du top 3 ?"
      ]
    },
    {
      "cell_type": "code",
      "metadata": {
        "id": "OMfFlyxUGik4",
        "cellView": "both"
      },
      "source": [
        "# Your code here : "
      ],
      "execution_count": null,
      "outputs": []
    },
    {
      "cell_type": "markdown",
      "metadata": {
        "id": "a0u6CHCS_5g-"
      },
      "source": [
        "###3.3 Pour le genre 'Pop' seulement, donner la moyenne de `popularity` par `artist_name`. Les résultats seront présentés par ordre décroissant pour une meilleure lisibilité. Quels sont les artistes du top 3 ? \n"
      ]
    },
    {
      "cell_type": "code",
      "metadata": {
        "id": "YG45LJnpHtkr",
        "cellView": "both"
      },
      "source": [
        "# Your code here : "
      ],
      "execution_count": null,
      "outputs": []
    },
    {
      "cell_type": "markdown",
      "metadata": {
        "id": "dvUdLAC1_8rd"
      },
      "source": [
        "### 3.4 Quels sont les `track_name` pour l'artiste Queen ?"
      ]
    },
    {
      "cell_type": "code",
      "metadata": {
        "id": "P9UUNh3J_uai",
        "cellView": "both"
      },
      "source": [
        "# Your code here : "
      ],
      "execution_count": null,
      "outputs": []
    },
    {
      "cell_type": "markdown",
      "metadata": {
        "id": "zpV-PfqX_-Em"
      },
      "source": [
        "###3.5 Quelle est la popularité des chansons de Queen ? Les résultats seront présentés par ordre décroissant pour une meilleure lisibilité. Quels sont les chansons du top 3 ?\n"
      ]
    },
    {
      "cell_type": "code",
      "metadata": {
        "id": "CWAL9R8rwR2C",
        "cellView": "both"
      },
      "source": [
        "# Your code here : "
      ],
      "execution_count": null,
      "outputs": []
    },
    {
      "cell_type": "markdown",
      "metadata": {
        "id": "Iuv9MhCCtT6d"
      },
      "source": [
        "##4 Graphiques"
      ]
    },
    {
      "cell_type": "markdown",
      "metadata": {
        "id": "q2r4EMg7qdVl"
      },
      "source": [
        "Rappels, les graphiques doivent avoir :\n",
        "- des couleurs adaptées et lisibles\n",
        "- un titre\n",
        "- des axes clairs et lisibles\n",
        "- des légendes"
      ]
    },
    {
      "cell_type": "markdown",
      "metadata": {
        "id": "dClLVFe2lNNk"
      },
      "source": [
        "###4.1 Scatterplot\n",
        "Représenter un scatterplot (nuage de points) pour les colonnes de votre choix en respectant les contraintes :\n",
        "- Représenter uniquement les données des genres Opera et Reggaeton,\n",
        "- Couleurs différentes par genre."
      ]
    },
    {
      "cell_type": "code",
      "metadata": {
        "id": "4smhU1xf_BhK",
        "cellView": "both"
      },
      "source": [
        "# Your code here :"
      ],
      "execution_count": null,
      "outputs": []
    },
    {
      "cell_type": "markdown",
      "metadata": {
        "id": "OuPHIzlMFLXO"
      },
      "source": [
        "Commenter le graphique :\n",
        "-  \n",
        "-  \n",
        "-  "
      ]
    },
    {
      "cell_type": "markdown",
      "metadata": {
        "id": "FZBXanXblwuS"
      },
      "source": [
        "###4.2 Boxplot\n",
        "Représenter un boxplot (boite à moustaches) pour les colonnes de votre choix en respectant les contraintes :\n",
        "- Représenter uniquement les données des genres Opera et Reggaeton,\n",
        "- Couleurs différentes par genre."
      ]
    },
    {
      "cell_type": "code",
      "metadata": {
        "id": "D6yREBRrofvV",
        "cellView": "both"
      },
      "source": [
        "# Your code here :"
      ],
      "execution_count": null,
      "outputs": []
    },
    {
      "cell_type": "markdown",
      "metadata": {
        "id": "ghOVEmcwFUG0"
      },
      "source": [
        "Commenter le graphique :\n",
        "-  \n",
        "-  \n",
        "-  "
      ]
    },
    {
      "cell_type": "markdown",
      "metadata": {
        "id": "3QTc3cBCo6uU"
      },
      "source": [
        "### 4.3 Histogramme\n",
        "Représenter un histogramne pour les données \"energy\" et seulement pour la genre \"Country\"."
      ]
    },
    {
      "cell_type": "code",
      "metadata": {
        "id": "KQl7eT6wo7J0",
        "cellView": "both"
      },
      "source": [
        "# Your code here :\n"
      ],
      "execution_count": null,
      "outputs": []
    },
    {
      "cell_type": "markdown",
      "metadata": {
        "id": "5RsXEvt6Fq6x"
      },
      "source": [
        "Commenter le graphique :\n",
        "-  \n",
        "-  \n",
        "-  "
      ]
    },
    {
      "cell_type": "markdown",
      "metadata": {
        "id": "7d6c1zivFwZZ"
      },
      "source": [
        "**Bravo vous êtes arrivés à la fin du point d'étape n°1 !!!**  \n",
        "Vous en n'avez pas eu assez ????? Alors un petit bonus ! :)  "
      ]
    },
    {
      "cell_type": "markdown",
      "metadata": {
        "id": "hu5sUDb82K-_"
      },
      "source": [
        "## Bonus : Algorithmie\n",
        "Programmer un algorithme de compte à rebours :\n",
        "- A partir d'une valeur donnée, le programme doit décompter et afficher la valeur décomptée à chaque étape,\n",
        "- Lorsque le décompte atteint la valeur 3, le programme doit afficher un message de votre choix,\n",
        "- Le décompte s'arrête à la valeur 3 et ne va pas au-delà."
      ]
    },
    {
      "cell_type": "code",
      "metadata": {
        "id": "e3enQ_682DWx"
      },
      "source": [
        "# Your code here :"
      ],
      "execution_count": null,
      "outputs": []
    }
  ]
}